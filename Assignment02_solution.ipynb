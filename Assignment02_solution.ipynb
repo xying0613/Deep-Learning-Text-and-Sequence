{
 "cells": [
  {
   "cell_type": "markdown",
   "metadata": {},
   "source": [
    "# <span style=\"color:#0b486b\">  FIT3181: Deep Learning (2021)</span>\n",
    "***\n",
    "*CE/Lecturer:* Dr **Trung Le** | trunglm@monash.edu <br/>\n",
    "*Head Tutor:* Mr **Thanh Nguyen** | thanh.nguyen4@monash.edu <br/>\n",
    "<br/>\n",
    "Department of Data Science and AI, Faculty of Information Technology, Monash University, Australia\n",
    "***"
   ]
  },
  {
   "cell_type": "markdown",
   "metadata": {},
   "source": [
    "# <span style=\"color:#0b486b\">  Student Information</span>\n",
    "Surname: **Haw**  <br/>\n",
    "Firstname: **Xiao Ying**    <br/>\n",
    "Student ID: **29797918**    <br/>\n",
    "Email: **xhaw0001@student.monash.edu**    <br/>\n",
    "Your tutorial time: **Tuesday 3pm-5pm**    <br/>\n",
    "***"
   ]
  },
  {
   "cell_type": "markdown",
   "metadata": {},
   "source": [
    "## <span style=\"color:#0b486b\">Assignment 02: Neural Embedding and Sequence Modelling</span>\n",
    "### Due: <span style=\"color:red\">11:59pm 31 October 2021</span>  (Sunday)\n",
    "\n",
    "#### <span style=\"color:red\">Important note:</span> This is an **individual** assignment. It contributes **20%** to you final mark. Read the assignment instruction carefully."
   ]
  },
  {
   "cell_type": "markdown",
   "metadata": {},
   "source": [
    "## <span style=\"color:#0b486b\">Instructions</span>\n",
    "\n",
    "This notebook has been prepared for your to complete Assignment 2. The theme of this assignment is about practical machine learning knowledge and skills in deep neural networks, word embedding and text analytics. Some sections have been partially completed to help you get\n",
    "started. **The total marks for this notebook is 100**."
   ]
  },
  {
   "cell_type": "markdown",
   "metadata": {},
   "source": [
    "* Before you start, read the entire notebook carefully once to understand what you need to do. <br><br>\n",
    "* For each cell marked with **#YOU ARE REQUIRED TO INSERT YOUR CODES IN THIS CELL**, there will be places where you **must** supply your own codes when instructed. <br>\n",
    "\n",
    "This assignment contains **four** parts:\n",
    "\n",
    "* Part 1: Questions on downloading and preprocessing data **[10 points]**\n",
    "* Part 2: Questions on using Word2Vect to transform texts to vectors **[20 points]**\n",
    "* Part 3: Coding assessment on Text CNN for sequence modeling and neural embedding **[10 points]**\n",
    "* Part 4: Coding assessment on RNNs for sequence modeling and neural embedding **[60 points]**\n",
    "\n",
    "\n",
    "**Hint**: This assignment was essentially designed based on the lectures and tutorials sessions covered from Weeks 7 to 10. You are strongly recommended to go through these contents thoroughly which might help you to complete this assignment."
   ]
  },
  {
   "cell_type": "markdown",
   "metadata": {},
   "source": [
    "## <span style=\"color:#0b486b\">What to submit</span>\n",
    "\n",
    "This assignment is to be completed individually and submitted to Moodle unit site. **By the due date, you are required to submit one  <span style=\"color:red; font-weight:bold\">single zip file, named xxx_assignment02_solution.zip</span> where `xxx` is your student ID, to the corresponding Assignment (Dropbox) in Moodle**. "
   ]
  },
  {
   "cell_type": "markdown",
   "metadata": {},
   "source": [
    "***For example, if your student ID is <span style=\"color:red; font-weight:bold\">12356</span>, then gather all of your assignment solution to folder, create a zip file named <span style=\"color:red; font-weight:bold\">123456_assignment02_solution.zip</span> and submit this file.***"
   ]
  },
  {
   "cell_type": "markdown",
   "metadata": {},
   "source": [
    "Within this zip folder, you **must** submit the following files:\n",
    "1.\t**Assignment02_solution.ipynb**:  this is your Python notebook solution source file.\n",
    "1.\t**Assignment02_output.html**: this is the output of your Python notebook solution *exported* in html format.\n",
    "1.\tAny **extra files or folder** needed to complete your assignment (e.g., images used in your answers)."
   ]
  },
  {
   "cell_type": "markdown",
   "metadata": {},
   "source": [
    "## <span style=\"color:#0b486b\">Set random seeds</span>"
   ]
  },
  {
   "cell_type": "markdown",
   "metadata": {},
   "source": [
    "We start with importing tensorflow and numpy and setting random seeds for TF and numpy. You can use any seeds you prefer."
   ]
  },
  {
   "cell_type": "code",
   "execution_count": 1,
   "metadata": {},
   "outputs": [],
   "source": [
    "import numpy as np\n",
    "import tensorflow as tf\n",
    "\n",
    "tf.random.set_seed(6789)\n",
    "np.random.seed(6789)"
   ]
  },
  {
   "cell_type": "markdown",
   "metadata": {},
   "source": [
    "## <span style=\"color:#0b486b\">Part 1: Download and preprocess the data</span>\n",
    "\n",
    "<div style=\"text-align: right\"><span style=\"color:red; font-weight:bold\">[Total marks for this part: 10 points]<span></div>"
   ]
  },
  {
   "cell_type": "markdown",
   "metadata": {},
   "source": [
    "The dataset we use for this assignment is a question classification dataset for which the train set consists of $500$ questions belonging to 6 coarse question categories including:\n",
    "- abbreviation (ABBR), \n",
    "- entity (ENTY), \n",
    "- description (DESC), \n",
    "- human (HUM), \n",
    "- location (LOC) and \n",
    "- numeric (NUM).\n"
   ]
  },
  {
   "cell_type": "markdown",
   "metadata": {},
   "source": [
    "Preprocessing data is an inital and important step in any machine learning or deep learning projects. The following *DataManager* class helps you to download data and preprocess data for the later steps of a deep learning project. "
   ]
  },
  {
   "cell_type": "code",
   "execution_count": 2,
   "metadata": {},
   "outputs": [],
   "source": [
    "import os\n",
    "import zipfile\n",
    "import collections\n",
    "from six.moves import range\n",
    "from six.moves.urllib.request import urlretrieve\n",
    "from sklearn import preprocessing\n",
    "from sklearn.model_selection import train_test_split\n",
    "import matplotlib.pyplot as plt\n",
    "plt.style.use('ggplot')\n",
    "\n",
    "class DataManager:\n",
    "    def __init__(self, verbose=True, maxlen= 50, random_state=6789):\n",
    "        self.verbose = verbose\n",
    "        self.max_sentence_len = 0\n",
    "        self.str_questions = list()\n",
    "        self.str_labels = list()\n",
    "        self.numeral_labels = list()\n",
    "        self.maxlen = maxlen\n",
    "        self.numeral_data = list()\n",
    "        self.random_state = random_state\n",
    "        self.random = np.random.RandomState(random_state)\n",
    "        \n",
    "    @staticmethod\n",
    "    def maybe_download(dir_name, file_name, url, verbose= True):\n",
    "        if not os.path.exists(dir_name):\n",
    "            os.mkdir(dir_name)\n",
    "        if not os.path.exists(os.path.join(dir_name, file_name)):\n",
    "            urlretrieve(url + file_name, os.path.join(dir_name, file_name))\n",
    "        if verbose:\n",
    "            print(\"Downloaded successfully {}\".format(file_name))\n",
    "    \n",
    "    def read_data(self, dir_name, file_names):\n",
    "        for file_name in file_names:\n",
    "            file_path= os.path.join(dir_name, file_name)\n",
    "            self.str_questions= list(); self.str_labels= list()\n",
    "            with open(file_path, \"r\", encoding=\"latin-1\") as f:\n",
    "                for row in f:\n",
    "                    row_str= row.split(\":\")\n",
    "                    label, question= row_str[0], row_str[1]\n",
    "                    question= question.lower()\n",
    "                    self.str_labels.append(label)\n",
    "                    self.str_questions.append(question[0:-1])\n",
    "                    if self.max_sentence_len < len(self.str_questions[-1]):\n",
    "                        self.max_sentence_len= len(self.str_questions[-1])\n",
    "         \n",
    "        # turns labels into numbers\n",
    "        le= preprocessing.LabelEncoder()\n",
    "        le.fit(self.str_labels)\n",
    "        self.numeral_labels = np.array(le.transform(self.str_labels))\n",
    "        self.str_classes= le.classes_\n",
    "        self.num_classes= len(self.str_classes)\n",
    "        if self.verbose:\n",
    "            print(\"\\nSample questions... \\n\")\n",
    "            print(self.str_questions[0:5])\n",
    "            print(\"Labels {}\\n\\n\".format(self.str_classes))\n",
    "    \n",
    "    def manipulate_data(self):\n",
    "        tokenizer = tf.keras.preprocessing.text.Tokenizer()\n",
    "        tokenizer.fit_on_texts(self.str_questions)\n",
    "        self.numeral_data = tokenizer.texts_to_sequences(self.str_questions)\n",
    "        self.numeral_data = tf.keras.preprocessing.sequence.pad_sequences(self.numeral_data, padding='post', truncating= 'post', maxlen= self.maxlen)\n",
    "        self.word2idx = tokenizer.word_index\n",
    "        self.word2idx = {k:v for k,v in self.word2idx.items()}\n",
    "        self.idx2word = {v:k for k,v in self.word2idx.items()}\n",
    "        self.vocab_size = len(self.word2idx)\n",
    "    \n",
    "    def train_valid_split(self, train_ratio=0.9):\n",
    "        idxs = np.random.permutation(np.arange(len(self.str_questions)))\n",
    "        train_size = int(train_ratio*len(idxs)) +1\n",
    "        self.train_str_questions, self.valid_str_questions = self.str_questions[0:train_size], self.str_questions[train_size:]\n",
    "        self.train_numeral_data, self.valid_numeral_data = self.numeral_data[0:train_size], self.numeral_data[train_size:]\n",
    "        self.train_numeral_labels, self.valid_numeral_labels = self.numeral_labels[0:train_size], self.numeral_labels[train_size:]\n",
    "        self.tf_train_set = tf.data.Dataset.from_tensor_slices((self.train_numeral_data, self.train_numeral_labels))\n",
    "        self.tf_valid_set = tf.data.Dataset.from_tensor_slices((self.valid_numeral_data, self.valid_numeral_labels))"
   ]
  },
  {
   "cell_type": "code",
   "execution_count": 3,
   "metadata": {},
   "outputs": [
    {
     "name": "stdout",
     "output_type": "stream",
     "text": [
      "Loading data...\n",
      "Downloaded successfully train_1000.label\n",
      "Downloaded successfully TREC_10.label\n",
      "\n",
      "Sample questions... \n",
      "\n",
      "['dist how far is it from denver to aspen ?', 'city what county is modesto , california in ?', 'desc who was galileo ?', 'def what is an atom ?', 'date when did hawaii become a state ?']\n",
      "Labels ['ABBR' 'DESC' 'ENTY' 'HUM' 'LOC' 'NUM']\n",
      "\n",
      "\n"
     ]
    }
   ],
   "source": [
    "print('Loading data...')\n",
    "DataManager.maybe_download(\"Data\", \"train_1000.label\", \"http://cogcomp.org/Data/QA/QC/\")\n",
    "DataManager.maybe_download(\"Data\", \"TREC_10.label\", \"http://cogcomp.org/Data/QA/QC/\")\n",
    "\n",
    "dm = DataManager(maxlen=100)\n",
    "dm.read_data(\"Data/\", [\"train_1000.label\", \"TREC_10.label\"])   # read data"
   ]
  },
  {
   "cell_type": "code",
   "execution_count": 4,
   "metadata": {},
   "outputs": [],
   "source": [
    "dm.manipulate_data()\n",
    "dm.train_valid_split(train_ratio=0.8)"
   ]
  },
  {
   "cell_type": "markdown",
   "metadata": {},
   "source": [
    "You now have a data manager, named *dm* containing the training and validiation sets in both text and numeric forms. Your task is to play around and read this code to figure out the meanings of some important attributes that will be used in the next parts."
   ]
  },
  {
   "cell_type": "markdown",
   "metadata": {},
   "source": [
    "#### <span style=\"color:red\">**Question 1.1**</span> \n",
    "**What is the purpose of `self.train_str_questions` and `self.train_numeral_labels`? Write your code to print out the first five questions with labels in the training set.**\n",
    "\n",
    "<div style=\"text-align: right\"><span style=\"color:red\">[2 points]</span></div> "
   ]
  },
  {
   "cell_type": "markdown",
   "metadata": {},
   "source": [
    "`self.train_str_questions` is used to store the training set of questions and `self.train_numeral_labels` is used to store the  labels of the training set in the form of numeric numbers."
   ]
  },
  {
   "cell_type": "code",
   "execution_count": 5,
   "metadata": {},
   "outputs": [
    {
     "name": "stdout",
     "output_type": "stream",
     "text": [
      "Question 1 : dist how far is it from denver to aspen ?\n",
      "Label 1 : 5 \n",
      "\n",
      "Question 2 : city what county is modesto , california in ?\n",
      "Label 2 : 4 \n",
      "\n",
      "Question 3 : desc who was galileo ?\n",
      "Label 3 : 3 \n",
      "\n",
      "Question 4 : def what is an atom ?\n",
      "Label 4 : 1 \n",
      "\n",
      "Question 5 : date when did hawaii become a state ?\n",
      "Label 5 : 5 \n",
      "\n"
     ]
    }
   ],
   "source": [
    "for i in range(5):\n",
    "    q = dm.train_str_questions[i]\n",
    "    l = dm.train_numeral_labels[i]\n",
    "    print(\"Question\", i+1, \":\", q)\n",
    "    print(\"Label\", i+1, \":\", l , \"\\n\")"
   ]
  },
  {
   "cell_type": "markdown",
   "metadata": {},
   "source": [
    "#### <span style=\"color:red\">**Question 1.2**</span> \n",
    "**What is the purpose of `self.train_numeral_data`? Write your code to print out the first five questions in the numeric format with labels in the training set.**\n",
    "\n",
    "<div style=\"text-align: right\"><span style=\"color:red\">[2 points]</span></div> "
   ]
  },
  {
   "cell_type": "markdown",
   "metadata": {},
   "source": [
    "`self.train_numeral_data` is used to store the training set of questions in the form of list where there are only numbers representing the vector of the word. The maximum length of the sentence (list) is 100 words (vectors)."
   ]
  },
  {
   "cell_type": "code",
   "execution_count": 6,
   "metadata": {},
   "outputs": [
    {
     "name": "stdout",
     "output_type": "stream",
     "text": [
      "Question 1 : [ 27  14  73   3 115  39 305  20 306   0   0   0   0   0   0   0   0   0\n",
      "   0   0   0   0   0   0   0   0   0   0   0   0   0   0   0   0   0   0\n",
      "   0   0   0   0   0   0   0   0   0   0   0   0   0   0   0   0   0   0\n",
      "   0   0   0   0   0   0   0   0   0   0   0   0   0   0   0   0   0   0\n",
      "   0   0   0   0   0   0   0   0   0   0   0   0   0   0   0   0   0   0\n",
      "   0   0   0   0   0   0   0   0   0   0]\n",
      "Label 1 : 5 \n",
      "\n",
      "Question 2 : [ 18   1 153   3 307 308   6   0   0   0   0   0   0   0   0   0   0   0\n",
      "   0   0   0   0   0   0   0   0   0   0   0   0   0   0   0   0   0   0\n",
      "   0   0   0   0   0   0   0   0   0   0   0   0   0   0   0   0   0   0\n",
      "   0   0   0   0   0   0   0   0   0   0   0   0   0   0   0   0   0   0\n",
      "   0   0   0   0   0   0   0   0   0   0   0   0   0   0   0   0   0   0\n",
      "   0   0   0   0   0   0   0   0   0   0]\n",
      "Label 2 : 4 \n",
      "\n",
      "Question 3 : [ 42  12   8 309   0   0   0   0   0   0   0   0   0   0   0   0   0   0\n",
      "   0   0   0   0   0   0   0   0   0   0   0   0   0   0   0   0   0   0\n",
      "   0   0   0   0   0   0   0   0   0   0   0   0   0   0   0   0   0   0\n",
      "   0   0   0   0   0   0   0   0   0   0   0   0   0   0   0   0   0   0\n",
      "   0   0   0   0   0   0   0   0   0   0   0   0   0   0   0   0   0   0\n",
      "   0   0   0   0   0   0   0   0   0   0]\n",
      "Label 3 : 3 \n",
      "\n",
      "Question 4 : [  4   1   3  40 310   0   0   0   0   0   0   0   0   0   0   0   0   0\n",
      "   0   0   0   0   0   0   0   0   0   0   0   0   0   0   0   0   0   0\n",
      "   0   0   0   0   0   0   0   0   0   0   0   0   0   0   0   0   0   0\n",
      "   0   0   0   0   0   0   0   0   0   0   0   0   0   0   0   0   0   0\n",
      "   0   0   0   0   0   0   0   0   0   0   0   0   0   0   0   0   0   0\n",
      "   0   0   0   0   0   0   0   0   0   0]\n",
      "Label 4 : 1 \n",
      "\n",
      "Question 5 : [ 11  17  16 154  90  10  21   0   0   0   0   0   0   0   0   0   0   0\n",
      "   0   0   0   0   0   0   0   0   0   0   0   0   0   0   0   0   0   0\n",
      "   0   0   0   0   0   0   0   0   0   0   0   0   0   0   0   0   0   0\n",
      "   0   0   0   0   0   0   0   0   0   0   0   0   0   0   0   0   0   0\n",
      "   0   0   0   0   0   0   0   0   0   0   0   0   0   0   0   0   0   0\n",
      "   0   0   0   0   0   0   0   0   0   0]\n",
      "Label 5 : 5 \n",
      "\n"
     ]
    }
   ],
   "source": [
    "for i in range(5):\n",
    "    q = dm.train_numeral_data[i]\n",
    "    l = dm.train_numeral_labels[i]\n",
    "    print(\"Question\", i+1, \":\", q)\n",
    "    print(\"Label\", i+1, \":\", l , \"\\n\")"
   ]
  },
  {
   "cell_type": "markdown",
   "metadata": {},
   "source": [
    "#### <span style=\"color:red\">**Question 1.3**</span> \n",
    "**What is the purpose of two dictionaries: `self.word2idx` and `self.idx2word`? Write your code to print out the first five key-value pairs of those dictionaries.**\n",
    "\n",
    "<div style=\"text-align: right\"><span style=\"color:red\">[2 points]</span></div> "
   ]
  },
  {
   "cell_type": "markdown",
   "metadata": {},
   "source": [
    "`self.word2idx` has the word as the key and the vector of the word as the value, so that we are able to obtain the vector by using the word as the key. <br/>\n",
    "`self.idx2word` has the vector of the word as the key and the word as the value, so that we are able to obtain the word by using the vector as the key."
   ]
  },
  {
   "cell_type": "code",
   "execution_count": 7,
   "metadata": {},
   "outputs": [
    {
     "name": "stdout",
     "output_type": "stream",
     "text": [
      "self.word2idx: [('what', 1), ('the', 2), ('is', 3), ('def', 4), ('of', 5)]\n",
      "self.idx2word: [(1, 'what'), (2, 'the'), (3, 'is'), (4, 'def'), (5, 'of')]\n"
     ]
    }
   ],
   "source": [
    "word2idx = list(dm.word2idx.items())[:5]\n",
    "idx2word = list(dm.idx2word.items())[:5]\n",
    "print('self.word2idx:', word2idx)\n",
    "print('self.idx2word:', idx2word)"
   ]
  },
  {
   "cell_type": "markdown",
   "metadata": {},
   "source": [
    "#### <span style=\"color:red\">**Question 1.4**</span> \n",
    "**What is the purpose of `self.tf_train_set`? Write your code to print out the first five items of `self.tf_train_set`.**\n",
    "\n",
    "<div style=\"text-align: right\"><span style=\"color:red\">[2 points]</span></div> "
   ]
  },
  {
   "cell_type": "markdown",
   "metadata": {},
   "source": [
    "`self.tf_train_set` contains the training data in tensorflow variable. The numeral data and numeral label can be found in this training data."
   ]
  },
  {
   "cell_type": "code",
   "execution_count": 8,
   "metadata": {},
   "outputs": [
    {
     "name": "stdout",
     "output_type": "stream",
     "text": [
      "Item 1 :\n",
      " tf.Tensor(\n",
      "[ 27  14  73   3 115  39 305  20 306   0   0   0   0   0   0   0   0   0\n",
      "   0   0   0   0   0   0   0   0   0   0   0   0   0   0   0   0   0   0\n",
      "   0   0   0   0   0   0   0   0   0   0   0   0   0   0   0   0   0   0\n",
      "   0   0   0   0   0   0   0   0   0   0   0   0   0   0   0   0   0   0\n",
      "   0   0   0   0   0   0   0   0   0   0   0   0   0   0   0   0   0   0\n",
      "   0   0   0   0   0   0   0   0   0   0], shape=(100,), dtype=int32) \n",
      " tf.Tensor(5, shape=(), dtype=int32) \n",
      "\n",
      "Item 2 :\n",
      " tf.Tensor(\n",
      "[ 18   1 153   3 307 308   6   0   0   0   0   0   0   0   0   0   0   0\n",
      "   0   0   0   0   0   0   0   0   0   0   0   0   0   0   0   0   0   0\n",
      "   0   0   0   0   0   0   0   0   0   0   0   0   0   0   0   0   0   0\n",
      "   0   0   0   0   0   0   0   0   0   0   0   0   0   0   0   0   0   0\n",
      "   0   0   0   0   0   0   0   0   0   0   0   0   0   0   0   0   0   0\n",
      "   0   0   0   0   0   0   0   0   0   0], shape=(100,), dtype=int32) \n",
      " tf.Tensor(4, shape=(), dtype=int32) \n",
      "\n",
      "Item 3 :\n",
      " tf.Tensor(\n",
      "[ 42  12   8 309   0   0   0   0   0   0   0   0   0   0   0   0   0   0\n",
      "   0   0   0   0   0   0   0   0   0   0   0   0   0   0   0   0   0   0\n",
      "   0   0   0   0   0   0   0   0   0   0   0   0   0   0   0   0   0   0\n",
      "   0   0   0   0   0   0   0   0   0   0   0   0   0   0   0   0   0   0\n",
      "   0   0   0   0   0   0   0   0   0   0   0   0   0   0   0   0   0   0\n",
      "   0   0   0   0   0   0   0   0   0   0], shape=(100,), dtype=int32) \n",
      " tf.Tensor(3, shape=(), dtype=int32) \n",
      "\n",
      "Item 4 :\n",
      " tf.Tensor(\n",
      "[  4   1   3  40 310   0   0   0   0   0   0   0   0   0   0   0   0   0\n",
      "   0   0   0   0   0   0   0   0   0   0   0   0   0   0   0   0   0   0\n",
      "   0   0   0   0   0   0   0   0   0   0   0   0   0   0   0   0   0   0\n",
      "   0   0   0   0   0   0   0   0   0   0   0   0   0   0   0   0   0   0\n",
      "   0   0   0   0   0   0   0   0   0   0   0   0   0   0   0   0   0   0\n",
      "   0   0   0   0   0   0   0   0   0   0], shape=(100,), dtype=int32) \n",
      " tf.Tensor(1, shape=(), dtype=int32) \n",
      "\n",
      "Item 5 :\n",
      " tf.Tensor(\n",
      "[ 11  17  16 154  90  10  21   0   0   0   0   0   0   0   0   0   0   0\n",
      "   0   0   0   0   0   0   0   0   0   0   0   0   0   0   0   0   0   0\n",
      "   0   0   0   0   0   0   0   0   0   0   0   0   0   0   0   0   0   0\n",
      "   0   0   0   0   0   0   0   0   0   0   0   0   0   0   0   0   0   0\n",
      "   0   0   0   0   0   0   0   0   0   0   0   0   0   0   0   0   0   0\n",
      "   0   0   0   0   0   0   0   0   0   0], shape=(100,), dtype=int32) \n",
      " tf.Tensor(5, shape=(), dtype=int32) \n",
      "\n"
     ]
    }
   ],
   "source": [
    "count = 0\n",
    "\n",
    "for x,y in dm.tf_train_set:\n",
    "    print(\"Item\",count+1,\":\\n\",x,\"\\n\",y,\"\\n\")\n",
    "    count += 1\n",
    "    if count == 5:\n",
    "        break"
   ]
  },
  {
   "cell_type": "markdown",
   "metadata": {},
   "source": [
    "#### <span style=\"color:red\">**Question 1.5**</span> \n",
    "**What is the purpose of `self.tf_valid_set`? Write your code to print out the first five items of `self.tf_valid_set`.**\n",
    "\n",
    "<div style=\"text-align: right\"><span style=\"color:red\">[2 points]</span></div> "
   ]
  },
  {
   "cell_type": "markdown",
   "metadata": {},
   "source": [
    "`self.tf_valid_set` contains the validation data in tensorflow variable. The numeral data and numeral label can be found in this validation data."
   ]
  },
  {
   "cell_type": "code",
   "execution_count": 9,
   "metadata": {},
   "outputs": [
    {
     "name": "stdout",
     "output_type": "stream",
     "text": [
      "Item 1 :\n",
      " tf.Tensor(\n",
      "[ 32   1   3   2 921 922 923 924   0   0   0   0   0   0   0   0   0   0\n",
      "   0   0   0   0   0   0   0   0   0   0   0   0   0   0   0   0   0   0\n",
      "   0   0   0   0   0   0   0   0   0   0   0   0   0   0   0   0   0   0\n",
      "   0   0   0   0   0   0   0   0   0   0   0   0   0   0   0   0   0   0\n",
      "   0   0   0   0   0   0   0   0   0   0   0   0   0   0   0   0   0   0\n",
      "   0   0   0   0   0   0   0   0   0   0], shape=(100,), dtype=int32) \n",
      " tf.Tensor(2, shape=(), dtype=int32) \n",
      "\n",
      "Item 2 :\n",
      " tf.Tensor(\n",
      "[ 11  17   3 925  15  69   0   0   0   0   0   0   0   0   0   0   0   0\n",
      "   0   0   0   0   0   0   0   0   0   0   0   0   0   0   0   0   0   0\n",
      "   0   0   0   0   0   0   0   0   0   0   0   0   0   0   0   0   0   0\n",
      "   0   0   0   0   0   0   0   0   0   0   0   0   0   0   0   0   0   0\n",
      "   0   0   0   0   0   0   0   0   0   0   0   0   0   0   0   0   0   0\n",
      "   0   0   0   0   0   0   0   0   0   0], shape=(100,), dtype=int32) \n",
      " tf.Tensor(5, shape=(), dtype=int32) \n",
      "\n",
      "Item 3 :\n",
      " tf.Tensor(\n",
      "[ 52   1  22   2 926 301  89  24   0   0   0   0   0   0   0   0   0   0\n",
      "   0   0   0   0   0   0   0   0   0   0   0   0   0   0   0   0   0   0\n",
      "   0   0   0   0   0   0   0   0   0   0   0   0   0   0   0   0   0   0\n",
      "   0   0   0   0   0   0   0   0   0   0   0   0   0   0   0   0   0   0\n",
      "   0   0   0   0   0   0   0   0   0   0   0   0   0   0   0   0   0   0\n",
      "   0   0   0   0   0   0   0   0   0   0], shape=(100,), dtype=int32) \n",
      " tf.Tensor(0, shape=(), dtype=int32) \n",
      "\n",
      "Item 4 :\n",
      " tf.Tensor(\n",
      "[ 27  14 128   3   2 927  47   6 251   0   0   0   0   0   0   0   0   0\n",
      "   0   0   0   0   0   0   0   0   0   0   0   0   0   0   0   0   0   0\n",
      "   0   0   0   0   0   0   0   0   0   0   0   0   0   0   0   0   0   0\n",
      "   0   0   0   0   0   0   0   0   0   0   0   0   0   0   0   0   0   0\n",
      "   0   0   0   0   0   0   0   0   0   0   0   0   0   0   0   0   0   0\n",
      "   0   0   0   0   0   0   0   0   0   0], shape=(100,), dtype=int32) \n",
      " tf.Tensor(5, shape=(), dtype=int32) \n",
      "\n",
      "Item 5 :\n",
      " tf.Tensor(\n",
      "[ 18   1  18  15 258   3  36   2 293  37   0   0   0   0   0   0   0   0\n",
      "   0   0   0   0   0   0   0   0   0   0   0   0   0   0   0   0   0   0\n",
      "   0   0   0   0   0   0   0   0   0   0   0   0   0   0   0   0   0   0\n",
      "   0   0   0   0   0   0   0   0   0   0   0   0   0   0   0   0   0   0\n",
      "   0   0   0   0   0   0   0   0   0   0   0   0   0   0   0   0   0   0\n",
      "   0   0   0   0   0   0   0   0   0   0], shape=(100,), dtype=int32) \n",
      " tf.Tensor(4, shape=(), dtype=int32) \n",
      "\n"
     ]
    }
   ],
   "source": [
    "count = 0\n",
    "\n",
    "for x,y in dm.tf_valid_set:\n",
    "    print(\"Item\",count+1,\":\\n\",x,\"\\n\",y,\"\\n\")\n",
    "    count += 1\n",
    "    if count == 5:\n",
    "        break"
   ]
  },
  {
   "cell_type": "markdown",
   "metadata": {},
   "source": [
    "## <span style=\"color:#0b486b\">Part 2: Using Word2Vect to transform texts to vectors </span>\n",
    "\n",
    "<div style=\"text-align: right\"><span style=\"color:red; font-weight:bold\">[Total marks for this part: 20 points]<span></div>"
   ]
  },
  {
   "cell_type": "markdown",
   "metadata": {},
   "source": [
    "In this part, you will be assessed on how to use a pretrained Word2Vect model for realizing a machine learning task. Basically, you will use this pretrained Word2Vect to transform the questions in the above dataset stored in the *data manager object dm* to numeric form for training a Support Vector Machine in sckit-learn.  "
   ]
  },
  {
   "cell_type": "code",
   "execution_count": 10,
   "metadata": {},
   "outputs": [],
   "source": [
    "import gensim.downloader as api\n",
    "from gensim.models import Word2Vec\n",
    "from sklearn.svm import SVC\n",
    "from sklearn.preprocessing import MinMaxScaler\n",
    "from sklearn.metrics import accuracy_score"
   ]
  },
  {
   "cell_type": "markdown",
   "metadata": {},
   "source": [
    "#### <span style=\"color:red\">**Question 2.1**</span> \n",
    "**Write code to download the pretrained model *glove-wiki-gigaword-100*. Note that this model transforms a word in its dictionary to a $100$ dimensional vector.**\n",
    "\n",
    "<div style=\"text-align: right\"><span style=\"color:red\">[2 points]</span></div> "
   ]
  },
  {
   "cell_type": "code",
   "execution_count": 11,
   "metadata": {},
   "outputs": [],
   "source": [
    "word2vect = api.load('glove-wiki-gigaword-100')"
   ]
  },
  {
   "cell_type": "markdown",
   "metadata": {},
   "source": [
    "#### <span style=\"color:red\">**Question 2.2**</span> \n",
    "\n",
    "**Write code for the function *get_word_vector(word, model)* used to transform a word to a vector using the pretrained Word2Vect model *model*. Note that for a word not in the vocabulary of our *word2vect*, you need to return a vector $0$ with 100 dimensions.**\n",
    "\n",
    "<div style=\"text-align: right\"><span style=\"color:red\">[3 points]</span></div> "
   ]
  },
  {
   "cell_type": "code",
   "execution_count": 12,
   "metadata": {},
   "outputs": [],
   "source": [
    "def get_word_vector(word, model):\n",
    "    try:\n",
    "        vector = model.get_vector(word)\n",
    "    except: #word not in the vocabulary\n",
    "        vector = np.zeros(100)\n",
    "    return vector"
   ]
  },
  {
   "cell_type": "markdown",
   "metadata": {},
   "source": [
    "#### <span style=\"color:red\">**Question 2.3**</span> \n",
    "\n",
    "**Write the code for the function `get_sentence_vector(sentence, important_score=None, model= None)`. Note that this function will transform a sentence to a 100-dimensional vector using the pretrained model *model*. In addition, the list *important_score* which has the same length as the *sentence* specifies the important scores of the words in the sentence. In your code, you first need to apply *softmax* function over *important_score* to obtain the important weight *important_weight* which forms a probability over the words of the sentence. Furthermore, the final vector of the sentence will be weighted sum of the individual vectors for words and the weights in *important_weight*.**\n",
    "- $important\\_weight = softmax(important\\_score)$.\n",
    "- $final\\_vector= important\\_weight[1]\\times v[1] + important\\_weight[2]\\times v[2] + ...+ important\\_weight[L]\\times v[L]$ where $L$ is the length of the sentence and $v[i]$ is the vector representation of the $i-th$  word in this sentence.\n",
    "\n",
    "**Note that if *important_score=None* is set by default, your function should return the average of all representation vectors corresponding to set *important_score=[1,1,...,1]*.**\n",
    "\n",
    "<div style=\"text-align: right\"><span style=\"color:red\">[5 points]</span></div> "
   ]
  },
  {
   "cell_type": "code",
   "execution_count": 13,
   "metadata": {},
   "outputs": [],
   "source": [
    "def get_sentence_vector(sentence, important_score=None, model= None):\n",
    "    \n",
    "    tokens = sentence.split()\n",
    "    vecs = [get_word_vector(word, model) for word in tokens if word in model]\n",
    "    \n",
    "    if important_score is None:\n",
    "        important_score = np.ones(len(tokens))\n",
    "        \n",
    "    important_weight = np.zeros(len(important_score))\n",
    "    total = np.sum(np.exp(important_score))\n",
    "    for i in range(len(important_score)):\n",
    "        current = np.exp(important_score[i])\n",
    "        important_weight[i] = current/total\n",
    "        \n",
    "    final_vector = important_weight[0]*vecs[0]\n",
    "    for k in range(1,len(vecs)):\n",
    "        final_vector += important_weight[k]*vecs[k]\n",
    "        \n",
    "    return final_vector"
   ]
  },
  {
   "cell_type": "markdown",
   "metadata": {},
   "source": [
    "#### <span style=\"color:red\">**Question 2.4**</span> \n",
    "\n",
    "**Write code to transform the training questions in *dm.train_str_questions* to feature vectors. Note that after running the following cell, you must have $X\\_train$ which is an numpy array of the feature vectors and $y\\_train$ which is an array of numeric labels (*Hint: dm.train_numeral_labels*). You can add more lines to the following cell if necessary. In addition, you should decide the *important_score* by yourself. For example, you might reckon that the 1st score is 1, the 2nd score is decayed by 0.9, the 3rd is decayed by 0.9, and so on.**\n",
    "\n",
    "<div style=\"text-align: right\"><span style=\"color:red\">[2 points]</span></div> "
   ]
  },
  {
   "cell_type": "code",
   "execution_count": 14,
   "metadata": {
    "scrolled": true
   },
   "outputs": [
    {
     "name": "stdout",
     "output_type": "stream",
     "text": [
      "Transform training set to feature vectors...\n"
     ]
    }
   ],
   "source": [
    "print(\"Transform training set to feature vectors...\")\n",
    "X_train = []\n",
    "y_train = dm.train_numeral_labels\n",
    "for x in dm.train_str_questions:\n",
    "    vec = get_sentence_vector(x, None, word2vect)\n",
    "    X_train.append(vec)\n",
    "X_train = np.array(X_train)"
   ]
  },
  {
   "cell_type": "markdown",
   "metadata": {},
   "source": [
    "#### <span style=\"color:red\">**Question 2.5**</span> \n",
    "\n",
    "**Write code to transform the training questions in *dm.valid_str_questions* to feature vectors. Note that after running the following cell, you must have $X\\_valid$ which is an numpy array of the feature vectors and $y\\_valid$ which is an array of numeric labels (*Hint: dm.valid_numeral_labels*). You can add more lines to the following cell if necessary. In addition, you should decide the *important_score* by yourself. For example, you might reckon that the 1st score is 1, the 2nd score is decayed by 0.9, the 3rd is decayed by 0.9, and so on.**\n",
    "\n",
    "<div style=\"text-align: right\"><span style=\"color:red\">[2 points]</span></div> "
   ]
  },
  {
   "cell_type": "code",
   "execution_count": 15,
   "metadata": {},
   "outputs": [
    {
     "name": "stdout",
     "output_type": "stream",
     "text": [
      "Transform valid set to feature vectors...\n"
     ]
    }
   ],
   "source": [
    "print(\"Transform valid set to feature vectors...\")\n",
    "X_valid = []\n",
    "y_valid = dm.valid_numeral_labels\n",
    "for x in dm.valid_str_questions:\n",
    "    vec = get_sentence_vector(x, None, word2vect)\n",
    "    X_valid.append(vec)\n",
    "X_valid = np.array(X_valid)"
   ]
  },
  {
   "cell_type": "markdown",
   "metadata": {},
   "source": [
    "#### <span style=\"color:red\">**Question 2.6**</span> \n",
    "\n",
    "**It is now to use *MinMaxScaler(feature_range=(-1,1))* in sckit-learn to scale both training and valid sets to the range $(-1,1)$.**\n",
    "\n",
    "<div style=\"text-align: right\"><span style=\"color:red\">[2 points]</span></div> "
   ]
  },
  {
   "cell_type": "code",
   "execution_count": 16,
   "metadata": {},
   "outputs": [],
   "source": [
    "scaler = MinMaxScaler(feature_range=(-1,1))\n",
    "scaler.fit(X_train)\n",
    "X_train = scaler.transform(X_train)\n",
    "scaler.fit(X_valid)\n",
    "X_valid = scaler.transform(X_valid)"
   ]
  },
  {
   "cell_type": "markdown",
   "metadata": {},
   "source": [
    "#### <span style=\"color:red\">**Question 2.7**</span> \n",
    "\n",
    "**Declare a support vector machine (the class *SVC*  in sckit-learn) with RBF kernel, $C=1$, $gamma= 2^{-3}$ and fit on the training set.**\n",
    "\n",
    "<div style=\"text-align: right\"><span style=\"color:red\">[2 points]</span></div> "
   ]
  },
  {
   "cell_type": "code",
   "execution_count": 17,
   "metadata": {},
   "outputs": [],
   "source": [
    "svm = SVC(kernel='rbf', C=1, gamma=0.002)\n",
    "clf = svm.fit(X_train, y_train)"
   ]
  },
  {
   "cell_type": "markdown",
   "metadata": {},
   "source": [
    "#### <span style=\"color:red\">**Question 2.8**</span> \n",
    "\n",
    "**Finally, we use the trained *svm* to evaluate on the valid set $X\\_valid$.**\n",
    "\n",
    "<div style=\"text-align: right\"><span style=\"color:red\">[2 points]</span></div> "
   ]
  },
  {
   "cell_type": "code",
   "execution_count": 18,
   "metadata": {},
   "outputs": [
    {
     "name": "stdout",
     "output_type": "stream",
     "text": [
      "Accuracy of trained svm on valid set: 0.43434343434343436\n"
     ]
    }
   ],
   "source": [
    "y_valid_pred= svm.predict(X_valid)\n",
    "acc = accuracy_score(y_valid, y_valid_pred)\n",
    "\n",
    "print(\"Accuracy of trained svm on valid set:\", acc)"
   ]
  },
  {
   "cell_type": "markdown",
   "metadata": {},
   "source": [
    "## <span style=\"color:#0b486b\">Part 3: Text CNN for sequence modeling and neural embedding </span>\n",
    "\n",
    "<div style=\"text-align: right\"><span style=\"color:red; font-weight:bold\">[Total marks for this part: 10 points]<span></div>"
   ]
  },
  {
   "cell_type": "markdown",
   "metadata": {},
   "source": [
    "#### <span style=\"color:red\">**Question 3.1**</span> \n",
    "\n",
    "**In what follows, you are required to complete the code for Text CNN for sentence classification. The paper of Text CNN can be found at this [link](https://www.aclweb.org/anthology/D14-1181.pdf). Here is the description of the Text CNN you need to construct.**\n",
    "- There are three attributes (properties or instance variables): *embed_size, state_size, data_manager*.\n",
    "  - `embed_size`: the dimension of the vector space for which the words are embedded to using the embedding matrix.\n",
    "  - `state_size`: the number of filters used in *Conv1D* (reference [here](https://www.tensorflow.org/api_docs/python/tf/keras/layers/Conv1D)).\n",
    "  - `data_manager`: the data manager to store information of the dataset.\n",
    "- The detail of the computational process is as follows:\n",
    "  - Given input $x$, we embed $x$ using the embedding matrix to obtain an $3D$ tensor $[batch\\_size \\times vocab\\_size \\times embed\\_size]$ as $h$.\n",
    "  - We feed $h$ to three Convd 1D layers, each of which has $state\\_size$ filters, padding=same, activation= relu, and $kernel\\_size= 3, 5, 7$ respectively to obtain $h1, h2, h3$. Note that each $h1, h2, h3$ is a 3D tensor with the shape $[batch\\_size \\times output\\_size \\times state\\_size]$.\n",
    "  - We then apply *GlobalMaxPool1D()* (reference [here](https://www.tensorflow.org/api_docs/python/tf/keras/layers/GlobalMaxPool1D)) over $h1, h2, h3$ to obtain 2D tensors stored in $h1, h2, h3$ again.\n",
    "  - We then concatenate three 2D tensors $h1, h2, h3$ to obtain $h$. Note that you need to specify the axis to concatenate.\n",
    "  - We finally build up one dense layer on the top of $h$ for classification.\n",
    "  \n",
    "  <div style=\"text-align: right\"><span style=\"color:red\">[8 points]</span></div>\n",
    "  "
   ]
  },
  {
   "cell_type": "code",
   "execution_count": 19,
   "metadata": {},
   "outputs": [],
   "source": [
    "class TextCNN:\n",
    "    def __init__(self, embed_size= 128, state_size=16, data_manager=None):\n",
    "        self.data_manager = data_manager\n",
    "        self.embed_size = embed_size\n",
    "        self.state_size = state_size\n",
    "    \n",
    "    def build(self):\n",
    "        x = tf.keras.layers.Input(shape=[None])\n",
    "        h = tf.keras.layers.Embedding(self.data_manager.vocab_size +1, self.embed_size)(x)\n",
    "        h1 = tf.keras.layers.Conv1D(filters=self.state_size, kernel_size=3, padding='same', activation='relu')(h)\n",
    "        h2 = tf.keras.layers.Conv1D(filters=self.state_size, kernel_size=5, padding='same', activation='relu')(h)\n",
    "        h3 = tf.keras.layers.Conv1D(filters=self.state_size, kernel_size=7, padding='same', activation='relu')(h)\n",
    "        h1 = tf.keras.layers.GlobalMaxPool1D()(h1)\n",
    "        h2 = tf.keras.layers.GlobalMaxPool1D()(h2)\n",
    "        h3 = tf.keras.layers.GlobalMaxPool1D()(h3)\n",
    "        h = tf.keras.layers.concatenate([h1, h2, h3], axis=1)\n",
    "        h = tf.keras.layers.Dense(self.data_manager.num_classes, activation='softmax')(h)\n",
    "        self.model = tf.keras.Model(inputs=x, outputs=h) \n",
    "    \n",
    "    def compile_model(self, *args, **kwargs):\n",
    "        self.model.compile(*args, **kwargs)\n",
    "    \n",
    "    def fit(self, *args, **kwargs):\n",
    "        return self.model.fit(*args, **kwargs)\n",
    "    \n",
    "    def evaluate(self, *args, **kwargs):\n",
    "        self.model.evaluate(*args, **kwargs)\n"
   ]
  },
  {
   "cell_type": "markdown",
   "metadata": {},
   "source": [
    "#### <span style=\"color:red\">**Question 3.2**</span> \n",
    "**Here is the code to test TextCNN above. You can observe that TextCNN outperforms the traditional approach SVM + Word2Vect for this task. The reason is that TextCNN enables us to automatically learn the feature that fits to the task. This makes deep learning different from hand-crafted feature approaches. Complete the code to test the model. Note that when compiling the model, you can use the Adam optimizer.**\n",
    "\n",
    "<div style=\"text-align: right\"><span style=\"color:red\">[2 points]</span></div>"
   ]
  },
  {
   "cell_type": "code",
   "execution_count": 20,
   "metadata": {
    "scrolled": true
   },
   "outputs": [
    {
     "name": "stdout",
     "output_type": "stream",
     "text": [
      "Epoch 1/20\n",
      "7/7 [==============================] - 2s 115ms/step - loss: 1.7450 - accuracy: 0.3965 - val_loss: 1.7266 - val_accuracy: 0.4242\n",
      "Epoch 2/20\n",
      "7/7 [==============================] - 0s 64ms/step - loss: 1.6031 - accuracy: 0.5810 - val_loss: 1.6472 - val_accuracy: 0.3939\n",
      "Epoch 3/20\n",
      "7/7 [==============================] - 0s 62ms/step - loss: 1.4762 - accuracy: 0.5411 - val_loss: 1.5596 - val_accuracy: 0.3939\n",
      "Epoch 4/20\n",
      "7/7 [==============================] - 0s 63ms/step - loss: 1.3451 - accuracy: 0.5711 - val_loss: 1.4568 - val_accuracy: 0.4040\n",
      "Epoch 5/20\n",
      "7/7 [==============================] - 0s 65ms/step - loss: 1.2052 - accuracy: 0.6534 - val_loss: 1.3325 - val_accuracy: 0.4747\n",
      "Epoch 6/20\n",
      "7/7 [==============================] - 0s 63ms/step - loss: 1.0545 - accuracy: 0.7082 - val_loss: 1.1905 - val_accuracy: 0.5455\n",
      "Epoch 7/20\n",
      "7/7 [==============================] - 0s 64ms/step - loss: 0.8995 - accuracy: 0.8105 - val_loss: 1.0475 - val_accuracy: 0.5960\n",
      "Epoch 8/20\n",
      "7/7 [==============================] - 0s 63ms/step - loss: 0.7517 - accuracy: 0.9252 - val_loss: 0.9181 - val_accuracy: 0.7374\n",
      "Epoch 9/20\n",
      "7/7 [==============================] - 0s 65ms/step - loss: 0.6187 - accuracy: 0.9551 - val_loss: 0.8103 - val_accuracy: 0.7879\n",
      "Epoch 10/20\n",
      "7/7 [==============================] - 0s 62ms/step - loss: 0.5032 - accuracy: 0.9726 - val_loss: 0.7208 - val_accuracy: 0.8081\n",
      "Epoch 11/20\n",
      "7/7 [==============================] - 0s 63ms/step - loss: 0.4054 - accuracy: 0.9751 - val_loss: 0.6436 - val_accuracy: 0.8182\n",
      "Epoch 12/20\n",
      "7/7 [==============================] - 0s 61ms/step - loss: 0.3243 - accuracy: 0.9800 - val_loss: 0.5762 - val_accuracy: 0.8283\n",
      "Epoch 13/20\n",
      "7/7 [==============================] - 1s 84ms/step - loss: 0.2583 - accuracy: 0.9825 - val_loss: 0.5170 - val_accuracy: 0.8687\n",
      "Epoch 14/20\n",
      "7/7 [==============================] - 0s 63ms/step - loss: 0.2055 - accuracy: 0.9850 - val_loss: 0.4653 - val_accuracy: 0.8889\n",
      "Epoch 15/20\n",
      "7/7 [==============================] - 0s 63ms/step - loss: 0.1638 - accuracy: 0.9850 - val_loss: 0.4212 - val_accuracy: 0.9091\n",
      "Epoch 16/20\n",
      "7/7 [==============================] - 0s 61ms/step - loss: 0.1314 - accuracy: 0.9850 - val_loss: 0.3829 - val_accuracy: 0.9293\n",
      "Epoch 17/20\n",
      "7/7 [==============================] - 0s 61ms/step - loss: 0.1062 - accuracy: 0.9850 - val_loss: 0.3505 - val_accuracy: 0.9293\n",
      "Epoch 18/20\n",
      "7/7 [==============================] - 0s 61ms/step - loss: 0.0867 - accuracy: 0.9900 - val_loss: 0.3233 - val_accuracy: 0.9293\n",
      "Epoch 19/20\n",
      "7/7 [==============================] - 0s 62ms/step - loss: 0.0716 - accuracy: 0.9950 - val_loss: 0.3006 - val_accuracy: 0.9394\n",
      "Epoch 20/20\n",
      "7/7 [==============================] - 0s 64ms/step - loss: 0.0597 - accuracy: 0.9950 - val_loss: 0.2813 - val_accuracy: 0.9394\n"
     ]
    },
    {
     "data": {
      "text/plain": [
       "<tensorflow.python.keras.callbacks.History at 0x23eb4e4b0a0>"
      ]
     },
     "execution_count": 20,
     "metadata": {},
     "output_type": "execute_result"
    }
   ],
   "source": [
    "text_cnn = TextCNN(data_manager=dm)\n",
    "text_cnn.build()\n",
    "text_cnn.compile_model(loss='sparse_categorical_crossentropy', optimizer='adam', metrics=['accuracy'])\n",
    "text_cnn.fit(dm.tf_train_set.batch(64), epochs=20, validation_data = dm.tf_valid_set.batch(64))"
   ]
  },
  {
   "cell_type": "markdown",
   "metadata": {},
   "source": [
    "## <span style=\"color:#0b486b\">Part 4: RNNs for sequence modeling and neural embedding </span>\n",
    "\n",
    "<div style=\"text-align: right\"><span style=\"color:red; font-weight:bold\">[Total marks for this part: 60 points]<span></div>"
   ]
  },
  {
   "cell_type": "markdown",
   "metadata": {},
   "source": [
    "### <span style=\"color:#0b486b\">4.1. One-directional RNNs for sequence modeling and neural embedding </span> ###\n",
    "\n",
    "<div style=\"text-align: right\"><span style=\"color:red; font-weight:bold\">[Total marks for this part: 10 points]<span></div>"
   ]
  },
  {
   "cell_type": "markdown",
   "metadata": {},
   "source": [
    "#### <span style=\"color:red\">**Question 4.1.1**</span> \n",
    "**In this part, you need to construct an RNN to learn from the dataset of interest. Basically, you are required first to construct the class UniRNN (Uni-directional RNN) with the following requirements:**\n",
    "- Attribute `data_manager (self.data_manager)`: specifies the data manager used to store data for the model.\n",
    "- Attribute `cell_type (self.cell_type)`: can receive three values including `basic_rnn`, `gru`, and `lstm` which specifies the memory cells formed a hidden layer.\n",
    "- `state_sizes (self.state_sizes)` indicates the list of the hidden sizes  of memory cells. For example, $state\\_sizes = [64, 128]$ means that you have two hidden layers in your network with hidden sizes of $64$ and $128$ respectively.\n",
    "\n",
    "**Note that when declaring an embedding layer for the network, you need to set *mask_zero=True* so that the padding zeros in the sentences will be masked and ignored. This helps to have variable length RNNs. For more detail, you can refer to this [link](https://www.tensorflow.org/guide/keras/masking_and_padding).**\n",
    "\n",
    "<div style=\"text-align: right\"><span style=\"color:red\">[7 points]</span></div>"
   ]
  },
  {
   "cell_type": "code",
   "execution_count": 21,
   "metadata": {},
   "outputs": [],
   "source": [
    "class UniRNN:\n",
    "    def __init__(self, cell_type= 'gru', embed_size= 128, state_sizes= [128, 64], data_manager= None):\n",
    "        self.cell_type = cell_type\n",
    "        self.state_sizes = state_sizes\n",
    "        self.embed_size = embed_size\n",
    "        self.data_manager = data_manager\n",
    "        self.vocab_size = self.data_manager.vocab_size +1 \n",
    "        \n",
    "    #return the correspoding memory cell\n",
    "    @staticmethod\n",
    "    def get_layer(cell_type='gru', state_size= 128, return_sequences= False, activation = 'tanh'):\n",
    "        if cell_type=='gru':\n",
    "            return tf.keras.layers.GRU(units=state_size, activation=activation, return_sequences=return_sequences)\n",
    "        elif cell_type== 'lstm':\n",
    "            return tf.keras.layers.LSTM(units=state_size, activation=activation, return_sequences=return_sequences)\n",
    "        else:\n",
    "            return tf.keras.layers.SimpleRNN(units=state_size, activation=activation, return_sequences=return_sequences)\n",
    "    \n",
    "    def build(self):\n",
    "        x = tf.keras.layers.Input(shape=[None])\n",
    "        h = tf.keras.layers.Embedding(self.vocab_size, self.embed_size, mask_zero=True)(x)\n",
    "        num_layers = len(self.state_sizes)\n",
    "        for i in range(num_layers):\n",
    "            h = self.get_layer(cell_type=self.cell_type, state_size=self.state_sizes[i], return_sequences=True)(h)\n",
    "            if i == num_layers - 1:\n",
    "                h = self.get_layer(cell_type=self.cell_type, state_size=self.state_sizes[i], return_sequences=False)(h)\n",
    "        h = tf.keras.layers.Dense(dm.num_classes, activation='softmax')(h)\n",
    "        self.model = tf.keras.Model(inputs=x, outputs=h)\n",
    "   \n",
    "    def compile_model(self, *args, **kwargs):\n",
    "        self.model.compile(*args, **kwargs)\n",
    "    \n",
    "    def fit(self, *args, **kwargs):\n",
    "        return self.model.fit(*args, **kwargs)\n",
    "    \n",
    "    def evaluate(self, *args, **kwargs):\n",
    "        self.model.evaluate(*args, **kwargs)       \n"
   ]
  },
  {
   "cell_type": "markdown",
   "metadata": {},
   "source": [
    "#### <span style=\"color:red\">**Question 4.1.2**</span> \n",
    "**Run with basic RNN ('basic_rnn') cell with $embed\\_size= 128, state\\_sizes= [64, 128], data\\_manager= dm$.**\n",
    "\n",
    "<div style=\"text-align: right\"><span style=\"color:red\">[1 points]</span></div>"
   ]
  },
  {
   "cell_type": "code",
   "execution_count": 22,
   "metadata": {
    "scrolled": true
   },
   "outputs": [
    {
     "name": "stdout",
     "output_type": "stream",
     "text": [
      "Epoch 1/20\n",
      "7/7 [==============================] - 8s 462ms/step - loss: 1.3543 - accuracy: 0.5012 - val_loss: 1.1563 - val_accuracy: 0.5051\n",
      "Epoch 2/20\n",
      "7/7 [==============================] - 2s 245ms/step - loss: 0.4473 - accuracy: 0.8628 - val_loss: 1.0419 - val_accuracy: 0.6162\n",
      "Epoch 3/20\n",
      "7/7 [==============================] - 2s 268ms/step - loss: 0.1957 - accuracy: 0.9501 - val_loss: 0.7040 - val_accuracy: 0.7778\n",
      "Epoch 4/20\n",
      "7/7 [==============================] - 2s 257ms/step - loss: 0.0833 - accuracy: 0.9825 - val_loss: 0.9651 - val_accuracy: 0.7576\n",
      "Epoch 5/20\n",
      "7/7 [==============================] - 2s 271ms/step - loss: 0.0644 - accuracy: 0.9875 - val_loss: 0.4372 - val_accuracy: 0.8687\n",
      "Epoch 6/20\n",
      "7/7 [==============================] - 2s 265ms/step - loss: 0.0237 - accuracy: 0.9950 - val_loss: 0.4358 - val_accuracy: 0.8889\n",
      "Epoch 7/20\n",
      "7/7 [==============================] - 2s 303ms/step - loss: 0.0127 - accuracy: 1.0000 - val_loss: 0.4274 - val_accuracy: 0.8990\n",
      "Epoch 8/20\n",
      "7/7 [==============================] - 2s 254ms/step - loss: 0.0073 - accuracy: 1.0000 - val_loss: 0.4257 - val_accuracy: 0.8889\n",
      "Epoch 9/20\n",
      "7/7 [==============================] - 2s 272ms/step - loss: 0.0045 - accuracy: 1.0000 - val_loss: 0.4296 - val_accuracy: 0.8889\n",
      "Epoch 10/20\n",
      "7/7 [==============================] - 2s 289ms/step - loss: 0.0028 - accuracy: 1.0000 - val_loss: 0.4371 - val_accuracy: 0.8889\n",
      "Epoch 11/20\n",
      "7/7 [==============================] - 2s 274ms/step - loss: 0.0018 - accuracy: 1.0000 - val_loss: 0.4448 - val_accuracy: 0.8889\n",
      "Epoch 12/20\n",
      "7/7 [==============================] - 2s 256ms/step - loss: 0.0012 - accuracy: 1.0000 - val_loss: 0.4537 - val_accuracy: 0.8889\n",
      "Epoch 13/20\n",
      "7/7 [==============================] - 2s 262ms/step - loss: 8.1880e-04 - accuracy: 1.0000 - val_loss: 0.4646 - val_accuracy: 0.8889\n",
      "Epoch 14/20\n",
      "7/7 [==============================] - 2s 279ms/step - loss: 5.6088e-04 - accuracy: 1.0000 - val_loss: 0.4768 - val_accuracy: 0.8889\n",
      "Epoch 15/20\n",
      "7/7 [==============================] - 2s 304ms/step - loss: 3.8719e-04 - accuracy: 1.0000 - val_loss: 0.4902 - val_accuracy: 0.8889\n",
      "Epoch 16/20\n",
      "7/7 [==============================] - 2s 258ms/step - loss: 2.6885e-04 - accuracy: 1.0000 - val_loss: 0.5047 - val_accuracy: 0.8687\n",
      "Epoch 17/20\n",
      "7/7 [==============================] - 2s 280ms/step - loss: 1.8751e-04 - accuracy: 1.0000 - val_loss: 0.5204 - val_accuracy: 0.8687\n",
      "Epoch 18/20\n",
      "7/7 [==============================] - 2s 278ms/step - loss: 1.3125e-04 - accuracy: 1.0000 - val_loss: 0.5373 - val_accuracy: 0.8687\n",
      "Epoch 19/20\n",
      "7/7 [==============================] - 2s 295ms/step - loss: 9.2128e-05 - accuracy: 1.0000 - val_loss: 0.5552 - val_accuracy: 0.8687\n",
      "Epoch 20/20\n",
      "7/7 [==============================] - 2s 254ms/step - loss: 6.4799e-05 - accuracy: 1.0000 - val_loss: 0.5740 - val_accuracy: 0.8687\n"
     ]
    },
    {
     "data": {
      "text/plain": [
       "<tensorflow.python.keras.callbacks.History at 0x23eb8de8100>"
      ]
     },
     "execution_count": 22,
     "metadata": {},
     "output_type": "execute_result"
    }
   ],
   "source": [
    "uni_rnn = UniRNN(cell_type='basic_rnn', embed_size=128, state_sizes=[64,128], data_manager=dm)\n",
    "uni_rnn.build()\n",
    "opt = tf.keras.optimizers.RMSprop(learning_rate=0.001)\n",
    "uni_rnn.compile_model(optimizer=opt, loss='sparse_categorical_crossentropy', metrics=['accuracy'])\n",
    "uni_rnn.fit(dm.tf_train_set.batch(64), epochs=20, validation_data = dm.tf_valid_set.batch(64))"
   ]
  },
  {
   "cell_type": "markdown",
   "metadata": {},
   "source": [
    "#### <span style=\"color:red\">**Question 4.1.3**</span> \n",
    "**Run with GRU ('gru') cell with $embed\\_size= 128, state\\_sizes= [64, 128], data\\_manager= dm$.**\n",
    "\n",
    "<div style=\"text-align: right\"><span style=\"color:red\">[1 points]</span></div>"
   ]
  },
  {
   "cell_type": "code",
   "execution_count": 23,
   "metadata": {
    "scrolled": true
   },
   "outputs": [
    {
     "name": "stdout",
     "output_type": "stream",
     "text": [
      "Epoch 1/20\n",
      "7/7 [==============================] - 28s 2s/step - loss: 1.6305 - accuracy: 0.3990 - val_loss: 1.4959 - val_accuracy: 0.4040\n",
      "Epoch 2/20\n",
      "7/7 [==============================] - 3s 497ms/step - loss: 1.0175 - accuracy: 0.5885 - val_loss: 1.4093 - val_accuracy: 0.4545\n",
      "Epoch 3/20\n",
      "7/7 [==============================] - 3s 502ms/step - loss: 0.7328 - accuracy: 0.7132 - val_loss: 1.1887 - val_accuracy: 0.5455\n",
      "Epoch 4/20\n",
      "7/7 [==============================] - 4s 509ms/step - loss: 0.4786 - accuracy: 0.8554 - val_loss: 0.9649 - val_accuracy: 0.6162\n",
      "Epoch 5/20\n",
      "7/7 [==============================] - 4s 509ms/step - loss: 0.2622 - accuracy: 0.9202 - val_loss: 0.8433 - val_accuracy: 0.7273\n",
      "Epoch 6/20\n",
      "7/7 [==============================] - 3s 472ms/step - loss: 0.1362 - accuracy: 0.9676 - val_loss: 1.2206 - val_accuracy: 0.6667\n",
      "Epoch 7/20\n",
      "7/7 [==============================] - 3s 421ms/step - loss: 0.1044 - accuracy: 0.9751 - val_loss: 0.8323 - val_accuracy: 0.8283\n",
      "Epoch 8/20\n",
      "7/7 [==============================] - 4s 516ms/step - loss: 0.0428 - accuracy: 0.9950 - val_loss: 0.9969 - val_accuracy: 0.7778\n",
      "Epoch 9/20\n",
      "7/7 [==============================] - 4s 504ms/step - loss: 0.0305 - accuracy: 0.9975 - val_loss: 0.6011 - val_accuracy: 0.8586\n",
      "Epoch 10/20\n",
      "7/7 [==============================] - 4s 526ms/step - loss: 0.0142 - accuracy: 1.0000 - val_loss: 0.6963 - val_accuracy: 0.8485\n",
      "Epoch 11/20\n",
      "7/7 [==============================] - 4s 505ms/step - loss: 0.0086 - accuracy: 1.0000 - val_loss: 0.8549 - val_accuracy: 0.8384\n",
      "Epoch 12/20\n",
      "7/7 [==============================] - 3s 492ms/step - loss: 0.0068 - accuracy: 1.0000 - val_loss: 1.2044 - val_accuracy: 0.7879\n",
      "Epoch 13/20\n",
      "7/7 [==============================] - 4s 500ms/step - loss: 0.0082 - accuracy: 0.9975 - val_loss: 0.8023 - val_accuracy: 0.8384\n",
      "Epoch 14/20\n",
      "7/7 [==============================] - 4s 517ms/step - loss: 0.0218 - accuracy: 0.9900 - val_loss: 1.1805 - val_accuracy: 0.7879\n",
      "Epoch 15/20\n",
      "7/7 [==============================] - 4s 487ms/step - loss: 0.0230 - accuracy: 0.9900 - val_loss: 0.6245 - val_accuracy: 0.8485\n",
      "Epoch 16/20\n",
      "7/7 [==============================] - 4s 484ms/step - loss: 0.0054 - accuracy: 1.0000 - val_loss: 0.6912 - val_accuracy: 0.8586\n",
      "Epoch 17/20\n",
      "7/7 [==============================] - 2s 336ms/step - loss: 0.0014 - accuracy: 1.0000 - val_loss: 0.6831 - val_accuracy: 0.8586\n",
      "Epoch 18/20\n",
      "7/7 [==============================] - 3s 459ms/step - loss: 0.0011 - accuracy: 1.0000 - val_loss: 0.6838 - val_accuracy: 0.8586\n",
      "Epoch 19/20\n",
      "7/7 [==============================] - 3s 494ms/step - loss: 8.1277e-04 - accuracy: 1.0000 - val_loss: 0.6911 - val_accuracy: 0.8586\n",
      "Epoch 20/20\n",
      "7/7 [==============================] - 3s 489ms/step - loss: 6.2287e-04 - accuracy: 1.0000 - val_loss: 0.7037 - val_accuracy: 0.8586\n"
     ]
    },
    {
     "data": {
      "text/plain": [
       "<tensorflow.python.keras.callbacks.History at 0x23ec181a0d0>"
      ]
     },
     "execution_count": 23,
     "metadata": {},
     "output_type": "execute_result"
    }
   ],
   "source": [
    "uni_rnn = UniRNN(cell_type='gru', embed_size=128, state_sizes=[64,128], data_manager=dm)\n",
    "uni_rnn.build()\n",
    "opt = tf.keras.optimizers.RMSprop(learning_rate=0.001)\n",
    "uni_rnn.compile_model(optimizer=opt, loss='sparse_categorical_crossentropy', metrics=['accuracy'])\n",
    "uni_rnn.fit(dm.tf_train_set.batch(64), epochs=20, validation_data = dm.tf_valid_set.batch(64))"
   ]
  },
  {
   "cell_type": "markdown",
   "metadata": {},
   "source": [
    "#### <span style=\"color:red\">**Question 4.1.4**</span> \n",
    "**Run with LSTM ('lstm') cell with $embed\\_size= 128, state\\_sizes= [64, 128], data\\_manager= dm$.**\n",
    "\n",
    "<div style=\"text-align: right\"><span style=\"color:red\">[1 points]</span></div>"
   ]
  },
  {
   "cell_type": "code",
   "execution_count": 24,
   "metadata": {
    "scrolled": true
   },
   "outputs": [
    {
     "name": "stdout",
     "output_type": "stream",
     "text": [
      "Epoch 1/20\n",
      "7/7 [==============================] - 31s 2s/step - loss: 1.7315 - accuracy: 0.2170 - val_loss: 1.6331 - val_accuracy: 0.2020\n",
      "Epoch 2/20\n",
      "7/7 [==============================] - 4s 584ms/step - loss: 1.3463 - accuracy: 0.5087 - val_loss: 1.2138 - val_accuracy: 0.5253\n",
      "Epoch 3/20\n",
      "7/7 [==============================] - 4s 590ms/step - loss: 0.8612 - accuracy: 0.7107 - val_loss: 0.9559 - val_accuracy: 0.6465\n",
      "Epoch 4/20\n",
      "7/7 [==============================] - 4s 612ms/step - loss: 0.5081 - accuracy: 0.8379 - val_loss: 1.5383 - val_accuracy: 0.5758\n",
      "Epoch 5/20\n",
      "7/7 [==============================] - 4s 582ms/step - loss: 0.4086 - accuracy: 0.9027 - val_loss: 0.4468 - val_accuracy: 0.8182\n",
      "Epoch 6/20\n",
      "7/7 [==============================] - 4s 624ms/step - loss: 0.2612 - accuracy: 0.9426 - val_loss: 0.3702 - val_accuracy: 0.8889\n",
      "Epoch 7/20\n",
      "7/7 [==============================] - 4s 600ms/step - loss: 0.1778 - accuracy: 0.9626 - val_loss: 0.3747 - val_accuracy: 0.9293\n",
      "Epoch 8/20\n",
      "7/7 [==============================] - 4s 596ms/step - loss: 0.1439 - accuracy: 0.9751 - val_loss: 0.4970 - val_accuracy: 0.9091\n",
      "Epoch 9/20\n",
      "7/7 [==============================] - 4s 605ms/step - loss: 0.1202 - accuracy: 0.9576 - val_loss: 0.3311 - val_accuracy: 0.9192\n",
      "Epoch 10/20\n",
      "7/7 [==============================] - 4s 618ms/step - loss: 0.0857 - accuracy: 0.9875 - val_loss: 1.0310 - val_accuracy: 0.8081\n",
      "Epoch 11/20\n",
      "7/7 [==============================] - 4s 602ms/step - loss: 0.0860 - accuracy: 0.9825 - val_loss: 0.1527 - val_accuracy: 0.9596\n",
      "Epoch 12/20\n",
      "7/7 [==============================] - 4s 591ms/step - loss: 0.0432 - accuracy: 0.9925 - val_loss: 0.2839 - val_accuracy: 0.9394\n",
      "Epoch 13/20\n",
      "7/7 [==============================] - 4s 590ms/step - loss: 0.0420 - accuracy: 0.9950 - val_loss: 0.1413 - val_accuracy: 0.9697\n",
      "Epoch 14/20\n",
      "7/7 [==============================] - 5s 645ms/step - loss: 0.0283 - accuracy: 0.9950 - val_loss: 1.1237 - val_accuracy: 0.8384\n",
      "Epoch 15/20\n",
      "7/7 [==============================] - 5s 670ms/step - loss: 0.0854 - accuracy: 0.9825 - val_loss: 0.1610 - val_accuracy: 0.9596\n",
      "Epoch 16/20\n",
      "7/7 [==============================] - 4s 623ms/step - loss: 0.0481 - accuracy: 0.9850 - val_loss: 0.1150 - val_accuracy: 0.9394\n",
      "Epoch 17/20\n",
      "7/7 [==============================] - 4s 622ms/step - loss: 0.0168 - accuracy: 0.9975 - val_loss: 0.1297 - val_accuracy: 0.9596\n",
      "Epoch 18/20\n",
      "7/7 [==============================] - 5s 632ms/step - loss: 0.0138 - accuracy: 0.9975 - val_loss: 0.3066 - val_accuracy: 0.9293\n",
      "Epoch 19/20\n",
      "7/7 [==============================] - 5s 641ms/step - loss: 0.0204 - accuracy: 0.9975 - val_loss: 0.1264 - val_accuracy: 0.9697\n",
      "Epoch 20/20\n",
      "7/7 [==============================] - 4s 615ms/step - loss: 0.0074 - accuracy: 1.0000 - val_loss: 0.1346 - val_accuracy: 0.9596\n"
     ]
    },
    {
     "data": {
      "text/plain": [
       "<tensorflow.python.keras.callbacks.History at 0x23f0ec95d60>"
      ]
     },
     "execution_count": 24,
     "metadata": {},
     "output_type": "execute_result"
    }
   ],
   "source": [
    "uni_rnn = UniRNN(cell_type='lstm', embed_size=128, state_sizes=[64,128], data_manager=dm)\n",
    "uni_rnn.build()\n",
    "opt = tf.keras.optimizers.RMSprop(learning_rate=0.001)\n",
    "uni_rnn.compile_model(optimizer=opt, loss='sparse_categorical_crossentropy', metrics=['accuracy'])\n",
    "uni_rnn.fit(dm.tf_train_set.batch(64), epochs=20, validation_data = dm.tf_valid_set.batch(64))"
   ]
  },
  {
   "cell_type": "markdown",
   "metadata": {},
   "source": [
    "### <span style=\"color:#0b486b\">4.2. Bi-directional RNNs for sequence modeling and neural embedding </span> ###\n",
    "\n",
    "<div style=\"text-align: right\"><span style=\"color:red; font-weight:bold\">[Total marks for this part: 10 points]<span></div>"
   ]
  },
  {
   "cell_type": "markdown",
   "metadata": {},
   "source": [
    "#### <span style=\"color:red\">**Question 4.2.1**</span> \n",
    "**In what follow, you will investigate BiRNN. The task is similar to Part 4.1 but you need to write the code for an BiRNN. Note that the function *get_layer(cell_type= 'gru', state_size= 128, return_sequences= False, activation = 'tanh')* has to return the hidden layer with bidirectional memory cells (e.g., Basic RNN, GRU, and LSTM cells).**\n",
    "\n",
    "**Complete the code of the class *BiRNN*. Note that for the embedding layer you need to set *mask_zero=True*.**\n",
    "\n",
    "<div style=\"text-align: right\"><span style=\"color:red\">[7 points]</span></div>"
   ]
  },
  {
   "cell_type": "code",
   "execution_count": 26,
   "metadata": {},
   "outputs": [],
   "source": [
    "class BiRNN:\n",
    "    def __init__(self, cell_type= 'gru', embed_size= 128, state_sizes= [128, 64], data_manager= None):\n",
    "        self.cell_type = cell_type\n",
    "        self.state_sizes = state_sizes\n",
    "        self.embed_size = embed_size\n",
    "        self.data_manager = data_manager\n",
    "        self.vocab_size = self.data_manager.vocab_size +1\n",
    "        \n",
    "    @staticmethod\n",
    "    def get_layer(cell_type= 'gru', state_size= 128, return_sequences= False, activation = 'tanh'):\n",
    "        if cell_type=='gru':\n",
    "            return tf.keras.layers.Bidirectional(\n",
    "                tf.keras.layers.GRU(units=state_size, activation=activation, return_sequences=return_sequences))\n",
    "        elif cell_type== 'lstm':\n",
    "            return tf.keras.layers.Bidirectional(\n",
    "                tf.keras.layers.LSTM(units=state_size, activation=activation, return_sequences=return_sequences))\n",
    "        else:\n",
    "            return tf.keras.layers.Bidirectional(\n",
    "                tf.keras.layers.SimpleRNN(units=state_size, activation=activation, return_sequences=return_sequences))\n",
    "    \n",
    "    def build(self):\n",
    "        x = tf.keras.layers.Input(shape=[None])\n",
    "        h = tf.keras.layers.Embedding(self.vocab_size, self.embed_size, mask_zero=True)(x)\n",
    "        num_layers = len(self.state_sizes)\n",
    "        for i in range(num_layers):\n",
    "            h = self.get_layer(cell_type=self.cell_type, state_size=self.state_sizes[i], return_sequences=True)(h)\n",
    "            if i == num_layers - 1:\n",
    "                h = self.get_layer(cell_type=self.cell_type, state_size=self.state_sizes[i], return_sequences=False)(h)\n",
    "        h = tf.keras.layers.Dense(dm.num_classes, activation='softmax')(h)\n",
    "        self.model = tf.keras.Model(inputs=x, outputs=h)\n",
    "    \n",
    "    def compile_model(self, *args, **kwargs):\n",
    "        self.model.compile(*args, **kwargs)\n",
    "    \n",
    "    def fit(self, *args, **kwargs):\n",
    "        return self.model.fit(*args, **kwargs)\n",
    "    \n",
    "    def evaluate(self, *args, **kwargs):\n",
    "        self.model.evaluate(*args, **kwargs)       \n"
   ]
  },
  {
   "cell_type": "markdown",
   "metadata": {},
   "source": [
    "#### <span style=\"color:red\">**Question 4.2.2**</span> \n",
    "**Run BiRNN for basic RNN ('basic_rnn') cell with $embed\\_size= 128, state\\_sizes= [64, 128], data\\_manager= dm$.**\n",
    "\n",
    "<div style=\"text-align: right\"><span style=\"color:red\">[1 points]</span></div>"
   ]
  },
  {
   "cell_type": "code",
   "execution_count": 27,
   "metadata": {
    "scrolled": true
   },
   "outputs": [
    {
     "name": "stdout",
     "output_type": "stream",
     "text": [
      "Epoch 1/20\n",
      "7/7 [==============================] - 14s 653ms/step - loss: 1.1351 - accuracy: 0.5885 - val_loss: 0.8007 - val_accuracy: 0.6970\n",
      "Epoch 2/20\n",
      "7/7 [==============================] - 3s 407ms/step - loss: 0.1661 - accuracy: 0.9726 - val_loss: 0.5592 - val_accuracy: 0.8485\n",
      "Epoch 3/20\n",
      "7/7 [==============================] - 3s 411ms/step - loss: 0.0415 - accuracy: 0.9950 - val_loss: 0.2893 - val_accuracy: 0.9192\n",
      "Epoch 4/20\n",
      "7/7 [==============================] - 3s 411ms/step - loss: 0.0165 - accuracy: 1.0000 - val_loss: 0.2776 - val_accuracy: 0.9091\n",
      "Epoch 5/20\n",
      "7/7 [==============================] - 3s 407ms/step - loss: 0.0080 - accuracy: 1.0000 - val_loss: 0.2689 - val_accuracy: 0.9091\n",
      "Epoch 6/20\n",
      "7/7 [==============================] - 3s 403ms/step - loss: 0.0046 - accuracy: 1.0000 - val_loss: 0.2637 - val_accuracy: 0.9091\n",
      "Epoch 7/20\n",
      "7/7 [==============================] - 3s 384ms/step - loss: 0.0028 - accuracy: 1.0000 - val_loss: 0.2605 - val_accuracy: 0.9192\n",
      "Epoch 8/20\n",
      "7/7 [==============================] - 3s 396ms/step - loss: 0.0018 - accuracy: 1.0000 - val_loss: 0.2588 - val_accuracy: 0.9192\n",
      "Epoch 9/20\n",
      "7/7 [==============================] - 3s 404ms/step - loss: 0.0011 - accuracy: 1.0000 - val_loss: 0.2580 - val_accuracy: 0.9192\n",
      "Epoch 10/20\n",
      "7/7 [==============================] - 3s 396ms/step - loss: 7.5233e-04 - accuracy: 1.0000 - val_loss: 0.2579 - val_accuracy: 0.9192\n",
      "Epoch 11/20\n",
      "7/7 [==============================] - 3s 406ms/step - loss: 4.9963e-04 - accuracy: 1.0000 - val_loss: 0.2584 - val_accuracy: 0.9192\n",
      "Epoch 12/20\n",
      "7/7 [==============================] - 3s 411ms/step - loss: 3.3464e-04 - accuracy: 1.0000 - val_loss: 0.2594 - val_accuracy: 0.9192\n",
      "Epoch 13/20\n",
      "7/7 [==============================] - 3s 405ms/step - loss: 2.2560e-04 - accuracy: 1.0000 - val_loss: 0.2609 - val_accuracy: 0.9192\n",
      "Epoch 14/20\n",
      "7/7 [==============================] - 3s 405ms/step - loss: 1.5288e-04 - accuracy: 1.0000 - val_loss: 0.2628 - val_accuracy: 0.9192\n",
      "Epoch 15/20\n",
      "7/7 [==============================] - 3s 411ms/step - loss: 1.0403e-04 - accuracy: 1.0000 - val_loss: 0.2653 - val_accuracy: 0.9192\n",
      "Epoch 16/20\n",
      "7/7 [==============================] - 3s 407ms/step - loss: 7.1039e-05 - accuracy: 1.0000 - val_loss: 0.2682 - val_accuracy: 0.9192\n",
      "Epoch 17/20\n",
      "7/7 [==============================] - 3s 400ms/step - loss: 4.8661e-05 - accuracy: 1.0000 - val_loss: 0.2716 - val_accuracy: 0.9293\n",
      "Epoch 18/20\n",
      "7/7 [==============================] - 3s 404ms/step - loss: 3.3427e-05 - accuracy: 1.0000 - val_loss: 0.2757 - val_accuracy: 0.9293\n",
      "Epoch 19/20\n",
      "7/7 [==============================] - 3s 394ms/step - loss: 2.3020e-05 - accuracy: 1.0000 - val_loss: 0.2803 - val_accuracy: 0.9293\n",
      "Epoch 20/20\n",
      "7/7 [==============================] - 3s 413ms/step - loss: 1.5884e-05 - accuracy: 1.0000 - val_loss: 0.2856 - val_accuracy: 0.9091\n"
     ]
    },
    {
     "data": {
      "text/plain": [
       "<tensorflow.python.keras.callbacks.History at 0x23f174990d0>"
      ]
     },
     "execution_count": 27,
     "metadata": {},
     "output_type": "execute_result"
    }
   ],
   "source": [
    "bi_rnn = BiRNN(cell_type='basic_rnn', embed_size=128, state_sizes=[64,128], data_manager=dm)\n",
    "bi_rnn.build()\n",
    "opt = tf.keras.optimizers.RMSprop(learning_rate=0.001)\n",
    "bi_rnn.compile_model(optimizer=opt, loss='sparse_categorical_crossentropy', metrics=['accuracy'])\n",
    "bi_rnn.fit(dm.tf_train_set.batch(64), epochs=20, validation_data = dm.tf_valid_set.batch(64))"
   ]
  },
  {
   "cell_type": "markdown",
   "metadata": {},
   "source": [
    "#### <span style=\"color:red\">**Question 4.2.3**</span> \n",
    "**Run BiRNN for GRU ('gru') cell with $embed\\_size= 128, state\\_sizes= [64, 128], data\\_manager= dm$.**\n",
    "\n",
    "<div style=\"text-align: right\"><span style=\"color:red\">[1 points]</span></div>"
   ]
  },
  {
   "cell_type": "code",
   "execution_count": 28,
   "metadata": {
    "scrolled": true
   },
   "outputs": [
    {
     "name": "stdout",
     "output_type": "stream",
     "text": [
      "Epoch 1/20\n",
      "7/7 [==============================] - 56s 3s/step - loss: 1.5423 - accuracy: 0.4040 - val_loss: 1.3365 - val_accuracy: 0.4646\n",
      "Epoch 2/20\n",
      "7/7 [==============================] - 7s 1s/step - loss: 0.8781 - accuracy: 0.6658 - val_loss: 1.0603 - val_accuracy: 0.5152\n",
      "Epoch 3/20\n",
      "7/7 [==============================] - 7s 1s/step - loss: 0.5125 - accuracy: 0.8304 - val_loss: 1.1494 - val_accuracy: 0.5354\n",
      "Epoch 4/20\n",
      "7/7 [==============================] - 7s 1s/step - loss: 0.2931 - accuracy: 0.9202 - val_loss: 0.5028 - val_accuracy: 0.7980\n",
      "Epoch 5/20\n",
      "7/7 [==============================] - 7s 980ms/step - loss: 0.1743 - accuracy: 0.9551 - val_loss: 0.4264 - val_accuracy: 0.8283\n",
      "Epoch 6/20\n",
      "7/7 [==============================] - 7s 999ms/step - loss: 0.0652 - accuracy: 0.9875 - val_loss: 0.5301 - val_accuracy: 0.7980\n",
      "Epoch 7/20\n",
      "7/7 [==============================] - 7s 1s/step - loss: 0.0346 - accuracy: 0.9975 - val_loss: 0.3053 - val_accuracy: 0.8990\n",
      "Epoch 8/20\n",
      "7/7 [==============================] - 7s 1s/step - loss: 0.0175 - accuracy: 0.9975 - val_loss: 0.3255 - val_accuracy: 0.8889\n",
      "Epoch 9/20\n",
      "7/7 [==============================] - 7s 968ms/step - loss: 0.0067 - accuracy: 1.0000 - val_loss: 0.2963 - val_accuracy: 0.9091\n",
      "Epoch 10/20\n",
      "7/7 [==============================] - 7s 1s/step - loss: 0.0030 - accuracy: 1.0000 - val_loss: 0.3368 - val_accuracy: 0.8889\n",
      "Epoch 11/20\n",
      "7/7 [==============================] - 7s 1s/step - loss: 0.0016 - accuracy: 1.0000 - val_loss: 0.3636 - val_accuracy: 0.8788\n",
      "Epoch 12/20\n",
      "7/7 [==============================] - 7s 943ms/step - loss: 9.1365e-04 - accuracy: 1.0000 - val_loss: 0.3876 - val_accuracy: 0.8788\n",
      "Epoch 13/20\n",
      "7/7 [==============================] - 7s 990ms/step - loss: 5.5648e-04 - accuracy: 1.0000 - val_loss: 0.4108 - val_accuracy: 0.8788\n",
      "Epoch 14/20\n",
      "7/7 [==============================] - 8s 1s/step - loss: 3.4899e-04 - accuracy: 1.0000 - val_loss: 0.4349 - val_accuracy: 0.8788\n",
      "Epoch 15/20\n",
      "7/7 [==============================] - 7s 1s/step - loss: 2.2382e-04 - accuracy: 1.0000 - val_loss: 0.4594 - val_accuracy: 0.8788\n",
      "Epoch 16/20\n",
      "7/7 [==============================] - 7s 1s/step - loss: 1.4620e-04 - accuracy: 1.0000 - val_loss: 0.4843 - val_accuracy: 0.8788\n",
      "Epoch 17/20\n",
      "7/7 [==============================] - 7s 1s/step - loss: 9.6939e-05 - accuracy: 1.0000 - val_loss: 0.5097 - val_accuracy: 0.8788\n",
      "Epoch 18/20\n",
      "7/7 [==============================] - 8s 1s/step - loss: 6.5076e-05 - accuracy: 1.0000 - val_loss: 0.5356 - val_accuracy: 0.8788\n",
      "Epoch 19/20\n",
      "7/7 [==============================] - 7s 1s/step - loss: 4.4148e-05 - accuracy: 1.0000 - val_loss: 0.5621 - val_accuracy: 0.8788\n",
      "Epoch 20/20\n",
      "7/7 [==============================] - 7s 1s/step - loss: 3.0234e-05 - accuracy: 1.0000 - val_loss: 0.5892 - val_accuracy: 0.8788\n"
     ]
    },
    {
     "data": {
      "text/plain": [
       "<tensorflow.python.keras.callbacks.History at 0x23f1738a430>"
      ]
     },
     "execution_count": 28,
     "metadata": {},
     "output_type": "execute_result"
    }
   ],
   "source": [
    "bi_rnn = BiRNN(cell_type='gru', embed_size=128, state_sizes=[64,128], data_manager=dm)\n",
    "bi_rnn.build()\n",
    "opt = tf.keras.optimizers.RMSprop(learning_rate=0.001)\n",
    "bi_rnn.compile_model(optimizer=opt, loss='sparse_categorical_crossentropy', metrics=['accuracy'])\n",
    "bi_rnn.fit(dm.tf_train_set.batch(64), epochs=20, validation_data = dm.tf_valid_set.batch(64))"
   ]
  },
  {
   "cell_type": "markdown",
   "metadata": {},
   "source": [
    "#### <span style=\"color:red\">**Question 4.2.4**</span> \n",
    "**Run BiRNN for LSTM ('lstm') cell with $embed\\_size= 128, state\\_sizes= [64, 128], data\\_manager= dm$.**\n",
    "\n",
    "<div style=\"text-align: right\"><span style=\"color:red\">[1 points]</span></div>"
   ]
  },
  {
   "cell_type": "code",
   "execution_count": 29,
   "metadata": {
    "scrolled": true
   },
   "outputs": [
    {
     "name": "stdout",
     "output_type": "stream",
     "text": [
      "Epoch 1/20\n",
      "7/7 [==============================] - 57s 3s/step - loss: 1.6816 - accuracy: 0.3192 - val_loss: 1.9531 - val_accuracy: 0.4040\n",
      "Epoch 2/20\n",
      "7/7 [==============================] - 10s 1s/step - loss: 1.1029 - accuracy: 0.6359 - val_loss: 1.2197 - val_accuracy: 0.4949\n",
      "Epoch 3/20\n",
      "7/7 [==============================] - 10s 1s/step - loss: 0.6438 - accuracy: 0.7706 - val_loss: 0.6540 - val_accuracy: 0.7071\n",
      "Epoch 4/20\n",
      "7/7 [==============================] - 9s 1s/step - loss: 0.3093 - accuracy: 0.8978 - val_loss: 0.5684 - val_accuracy: 0.7879\n",
      "Epoch 5/20\n",
      "7/7 [==============================] - 10s 1s/step - loss: 0.1994 - accuracy: 0.9327 - val_loss: 0.7325 - val_accuracy: 0.7576\n",
      "Epoch 6/20\n",
      "7/7 [==============================] - 10s 1s/step - loss: 0.0799 - accuracy: 0.9825 - val_loss: 0.4401 - val_accuracy: 0.8586\n",
      "Epoch 7/20\n",
      "7/7 [==============================] - 9s 1s/step - loss: 0.0477 - accuracy: 0.9850 - val_loss: 0.4686 - val_accuracy: 0.8788\n",
      "Epoch 8/20\n",
      "7/7 [==============================] - 10s 1s/step - loss: 0.0301 - accuracy: 0.9975 - val_loss: 0.4480 - val_accuracy: 0.8990\n",
      "Epoch 9/20\n",
      "7/7 [==============================] - 10s 1s/step - loss: 0.0189 - accuracy: 0.9975 - val_loss: 0.4703 - val_accuracy: 0.8990\n",
      "Epoch 10/20\n",
      "7/7 [==============================] - 10s 1s/step - loss: 0.0122 - accuracy: 1.0000 - val_loss: 0.5094 - val_accuracy: 0.8990\n",
      "Epoch 11/20\n",
      "7/7 [==============================] - 9s 1s/step - loss: 0.0075 - accuracy: 1.0000 - val_loss: 0.5279 - val_accuracy: 0.8990\n",
      "Epoch 12/20\n",
      "7/7 [==============================] - 10s 1s/step - loss: 0.0046 - accuracy: 1.0000 - val_loss: 0.5527 - val_accuracy: 0.8889\n",
      "Epoch 13/20\n",
      "7/7 [==============================] - 10s 1s/step - loss: 0.0028 - accuracy: 1.0000 - val_loss: 0.5955 - val_accuracy: 0.8889\n",
      "Epoch 14/20\n",
      "7/7 [==============================] - 10s 1s/step - loss: 0.0017 - accuracy: 1.0000 - val_loss: 0.6342 - val_accuracy: 0.8889\n",
      "Epoch 15/20\n",
      "7/7 [==============================] - 10s 1s/step - loss: 0.0011 - accuracy: 1.0000 - val_loss: 0.6804 - val_accuracy: 0.8889\n",
      "Epoch 16/20\n",
      "7/7 [==============================] - 10s 1s/step - loss: 6.7244e-04 - accuracy: 1.0000 - val_loss: 0.7240 - val_accuracy: 0.8889\n",
      "Epoch 17/20\n",
      "7/7 [==============================] - 10s 2s/step - loss: 4.2359e-04 - accuracy: 1.0000 - val_loss: 0.7684 - val_accuracy: 0.8889\n",
      "Epoch 18/20\n",
      "7/7 [==============================] - 10s 1s/step - loss: 2.7129e-04 - accuracy: 1.0000 - val_loss: 0.8112 - val_accuracy: 0.8889\n",
      "Epoch 19/20\n",
      "7/7 [==============================] - 10s 1s/step - loss: 1.7670e-04 - accuracy: 1.0000 - val_loss: 0.8539 - val_accuracy: 0.8889\n",
      "Epoch 20/20\n",
      "7/7 [==============================] - 10s 1s/step - loss: 1.1692e-04 - accuracy: 1.0000 - val_loss: 0.8982 - val_accuracy: 0.8788\n"
     ]
    },
    {
     "data": {
      "text/plain": [
       "<tensorflow.python.keras.callbacks.History at 0x23f25a47b20>"
      ]
     },
     "execution_count": 29,
     "metadata": {},
     "output_type": "execute_result"
    }
   ],
   "source": [
    "bi_rnn = BiRNN(cell_type='lstm', embed_size=128, state_sizes=[64,128], data_manager=dm)\n",
    "bi_rnn.build()\n",
    "opt = tf.keras.optimizers.RMSprop(learning_rate=0.001)\n",
    "bi_rnn.compile_model(optimizer=opt, loss='sparse_categorical_crossentropy', metrics=['accuracy'])\n",
    "bi_rnn.fit(dm.tf_train_set.batch(64), epochs=20, validation_data = dm.tf_valid_set.batch(64))"
   ]
  },
  {
   "cell_type": "markdown",
   "metadata": {},
   "source": [
    "### <span style=\"color:#0b486b\">4.3. RNNs with various types, cells, and fine-tuning embedding matrix for sequence modeling and neural embedding </span> ###\n",
    "\n",
    "<div style=\"text-align: right\"><span style=\"color:red; font-weight:bold\">[Total marks for this part: 14 points]<span></div>"
   ]
  },
  {
   "cell_type": "markdown",
   "metadata": {},
   "source": [
    "#### <span style=\"color:red\">**Question 4.3.1**</span> \n",
    "\n",
    "**In what follows, you are required to combine the code in Part 1 and Part 2 to gain a general RNN which can be either Uni-directional RNN or Bi-directional RNN and the embedding matrix can be initialized using a pretrained Word2Vect.**\n",
    "\n",
    "**Below are the descriptions of the attributes of the class *RNN*:**\n",
    "- `run_mode (self.run_mode)` has three values (scratch, init-only, and init-fine-tune).\n",
    "  - `scratch` means training the embedding matrix from scratch.\n",
    "  - `init-only` means only initializing the embedding matrix with a pretrained Word2Vect but **not further doing** fine-tuning that matrix.\n",
    "  - `init-fine-tune` means both initializing the embedding matrix with a pretrained Word2Vect and **further doing** fine-tuning that matrix.\n",
    "- `network_type (self.network_type)` has two values (uni-directional and bi-directional) which correspond to either Uni-directional RNN or Bi-directional RNN.\n",
    "- `cell_type (self.cell_type)` has three values (simple-rnn, gru, and lstm) which specify the memory cell used in the network.\n",
    "- `embed_model (self.embed_model)` specifes the pretrained Word2Vect model used.\n",
    "-  `embed_size (self.embed_size)` specifes the embedding size. Note that when run_mode is either init-only' or 'init-fine-tune', this embedding size is extracted from embed_model for dimension compatability.\n",
    "- `state_sizes (self.state_sizes)` indicates the list of the hidden sizes  of memory cells. For example, $state\\_sizes = [64, 128]$ means that you have two hidden layers in your network with hidden sizes of $64$ and $128$ respectively.\n",
    "\n",
    "**Complete the code of the class *RNN*.**\n",
    "\n",
    "<div style=\"text-align: right\"><span style=\"color:red\">[10 points]</span></div>"
   ]
  },
  {
   "cell_type": "code",
   "execution_count": 19,
   "metadata": {},
   "outputs": [],
   "source": [
    "class RNN:\n",
    "    def __init__(self, run_mode = 'scratch', cell_type= 'gru', network_type = 'uni-directional', embed_model= 'glove-wiki-gigaword-100', \n",
    "                 embed_size= 128, state_sizes = [64, 64], data_manager = None):\n",
    "        self.run_mode = run_mode\n",
    "        self.data_manager = data_manager\n",
    "        self.cell_type = cell_type\n",
    "        self.network_type = network_type\n",
    "        self.state_sizes = state_sizes\n",
    "        self.embed_model = embed_model\n",
    "        self.embed_size = embed_size\n",
    "        if self.run_mode != 'scratch':\n",
    "            self.embed_size = int(self.embed_model.split(\"-\")[-1])\n",
    "        self.data_manager = data_manager\n",
    "        self.vocab_size = dm.vocab_size +1\n",
    "        self.word2idx = dm.word2idx\n",
    "        self.word2vect = None\n",
    "        self.embed_matrix = np.zeros(shape= [self.vocab_size, self.embed_size])\n",
    "    \n",
    "    def build_embedding_matrix(self):\n",
    "        self.word2vect = api.load(self.embed_model)\n",
    "        for word, idx in self.word2idx.items():\n",
    "            try:\n",
    "                self.embed_matrix[idx] = self.word2vect.get_vector(word)\n",
    "            except KeyError:\n",
    "                pass\n",
    "    \n",
    "    @staticmethod\n",
    "    def get_layer(cell_type='gru', network_type='uni-directional', hidden_size=128, return_sequences=False, activation='tanh'):\n",
    "        if network_type == 'uni-directional':\n",
    "            if cell_type == 'gru':\n",
    "                return tf.keras.layers.GRU(units=hidden_size, activation=activation, return_sequences=return_sequences)\n",
    "            elif cell_type == 'lstm':\n",
    "                return tf.keras.layers.LSTM(units=hidden_size, activation=activation, return_sequences=return_sequences)\n",
    "            else:\n",
    "                return tf.keras.layers.SimpleRNN(units=hidden_size, activation=activation, return_sequences=return_sequences)\n",
    "        else:\n",
    "            if cell_type == 'gru':\n",
    "                return tf.keras.layers.Bidirectional(\n",
    "                    tf.keras.layers.GRU(units=hidden_size, activation=activation, return_sequences=return_sequences))\n",
    "            elif cell_type == 'lstm':\n",
    "                return tf.keras.layers.Bidirectional(\n",
    "                    tf.keras.layers.LSTM(units=hidden_size, activation=activation, return_sequences=return_sequences))\n",
    "            else:\n",
    "                return tf.keras.layers.Bidirectional(\n",
    "                    tf.keras.layers.SimpleRNN(units=hidden_size, activation=activation, return_sequences=return_sequences))\n",
    "    \n",
    "    def build(self):\n",
    "        inputs = tf.keras.layers.Input(shape=[None])\n",
    "        if self.run_mode == 'scratch':\n",
    "            self.embedding_layer = tf.keras.layers.Embedding(self.vocab_size, self.embed_size, mask_zero=True, trainable=True)\n",
    "        elif self.run_mode == 'init-only':\n",
    "            self.build_embedding_matrix()\n",
    "            self.embedding_layer = tf.keras.layers.Embedding(self.vocab_size, self.embed_size, mask_zero=True, trainable=True)\n",
    "        else: # init-fine-tune\n",
    "            self.build_embedding_matrix()\n",
    "            self.embedding_layer = tf.keras.layers.Embedding(self.vocab_size, self.embed_size, mask_zero=True, trainable=True,\n",
    "                                                        weights=[self.embed_matrix])\n",
    "        h = self.embedding_layer(inputs)\n",
    "        num_layers = len(self.state_sizes)\n",
    "        for i in range(num_layers):\n",
    "            h = self.get_layer(cell_type=self.cell_type, network_type=self.network_type, hidden_size=self.state_sizes[i], \n",
    "                               return_sequences=True)(h)\n",
    "            if i == num_layers - 1:\n",
    "                h = self.get_layer(cell_type=self.cell_type, network_type=self.network_type, hidden_size=self.state_sizes[i], \n",
    "                                   return_sequences=False)(h)\n",
    "        h = tf.keras.layers.Dense(dm.num_classes, activation='softmax')(h)\n",
    "        self.model = tf.keras.Model(inputs=inputs, outputs=h)\n",
    "        \n",
    "    def compile_model(self, *args, **kwargs):\n",
    "        self.model.compile(*args, **kwargs)\n",
    "    \n",
    "    def fit(self, *args, **kwargs):\n",
    "        return self.model.fit(*args, **kwargs)\n",
    "    \n",
    "    def evaluate(self, *args, **kwargs):\n",
    "        self.model.evaluate(*args, **kwargs)       \n"
   ]
  },
  {
   "cell_type": "markdown",
   "metadata": {},
   "source": [
    "#### <span style=\"color:red\">**Question 4.3.2**</span> \n",
    "\n",
    "**Design the experiment to compare three running modes. Note that you should stick with fixed values for other attributes and only vary *run_mode*. Give your comments for the results.**\n",
    "\n",
    "<div style=\"text-align: right\"><span style=\"color:red\">[2 points]</span></div>"
   ]
  },
  {
   "cell_type": "code",
   "execution_count": 29,
   "metadata": {
    "scrolled": true
   },
   "outputs": [
    {
     "name": "stdout",
     "output_type": "stream",
     "text": [
      "Epoch 1/20\n",
      "7/7 [==============================] - 27s 1s/step - loss: 1.6334 - accuracy: 0.4065 - val_loss: 1.3678 - val_accuracy: 0.4040\n",
      "Epoch 2/20\n",
      "7/7 [==============================] - 4s 513ms/step - loss: 1.0690 - accuracy: 0.5810 - val_loss: 1.1093 - val_accuracy: 0.4949\n",
      "Epoch 3/20\n",
      "7/7 [==============================] - 4s 539ms/step - loss: 0.7724 - accuracy: 0.6584 - val_loss: 0.9356 - val_accuracy: 0.5556\n",
      "Epoch 4/20\n",
      "7/7 [==============================] - 4s 515ms/step - loss: 0.5142 - accuracy: 0.7955 - val_loss: 0.8444 - val_accuracy: 0.6263\n",
      "Epoch 5/20\n",
      "7/7 [==============================] - 4s 521ms/step - loss: 0.3806 - accuracy: 0.8803 - val_loss: 0.6357 - val_accuracy: 0.7475\n",
      "Epoch 6/20\n",
      "7/7 [==============================] - 4s 517ms/step - loss: 0.2398 - accuracy: 0.9526 - val_loss: 0.5612 - val_accuracy: 0.7677\n",
      "Epoch 7/20\n",
      "7/7 [==============================] - 4s 530ms/step - loss: 0.1260 - accuracy: 0.9751 - val_loss: 0.5632 - val_accuracy: 0.7879\n",
      "Epoch 8/20\n",
      "7/7 [==============================] - 4s 503ms/step - loss: 0.0746 - accuracy: 0.9800 - val_loss: 0.6027 - val_accuracy: 0.7879\n",
      "Epoch 9/20\n",
      "7/7 [==============================] - 4s 561ms/step - loss: 0.0600 - accuracy: 0.9825 - val_loss: 0.8931 - val_accuracy: 0.7677\n",
      "Epoch 10/20\n",
      "7/7 [==============================] - 3s 497ms/step - loss: 0.0373 - accuracy: 0.9925 - val_loss: 0.4542 - val_accuracy: 0.8889\n",
      "Epoch 11/20\n",
      "7/7 [==============================] - 4s 507ms/step - loss: 0.0217 - accuracy: 0.9975 - val_loss: 0.4270 - val_accuracy: 0.9192\n",
      "Epoch 12/20\n",
      "7/7 [==============================] - 4s 544ms/step - loss: 0.0145 - accuracy: 0.9975 - val_loss: 0.7373 - val_accuracy: 0.8081\n",
      "Epoch 13/20\n",
      "7/7 [==============================] - 4s 512ms/step - loss: 0.0131 - accuracy: 0.9975 - val_loss: 0.5072 - val_accuracy: 0.8889\n",
      "Epoch 14/20\n",
      "7/7 [==============================] - 3s 497ms/step - loss: 0.0237 - accuracy: 0.9925 - val_loss: 0.4220 - val_accuracy: 0.9091\n",
      "Epoch 15/20\n",
      "7/7 [==============================] - 4s 578ms/step - loss: 0.0035 - accuracy: 1.0000 - val_loss: 0.3529 - val_accuracy: 0.9192\n",
      "Epoch 16/20\n",
      "7/7 [==============================] - 3s 456ms/step - loss: 0.0018 - accuracy: 1.0000 - val_loss: 0.3557 - val_accuracy: 0.9192\n",
      "Epoch 17/20\n",
      "7/7 [==============================] - 3s 397ms/step - loss: 0.0013 - accuracy: 1.0000 - val_loss: 0.3636 - val_accuracy: 0.9192\n",
      "Epoch 18/20\n",
      "7/7 [==============================] - 4s 521ms/step - loss: 9.3100e-04 - accuracy: 1.0000 - val_loss: 0.3736 - val_accuracy: 0.9192\n",
      "Epoch 19/20\n",
      "7/7 [==============================] - 4s 512ms/step - loss: 6.7625e-04 - accuracy: 1.0000 - val_loss: 0.3857 - val_accuracy: 0.9192\n",
      "Epoch 20/20\n",
      "7/7 [==============================] - 4s 504ms/step - loss: 4.8824e-04 - accuracy: 1.0000 - val_loss: 0.3994 - val_accuracy: 0.9293\n"
     ]
    },
    {
     "data": {
      "text/plain": [
       "<tensorflow.python.keras.callbacks.History at 0x1c02570c100>"
      ]
     },
     "execution_count": 29,
     "metadata": {},
     "output_type": "execute_result"
    }
   ],
   "source": [
    "rnn = RNN(run_mode='scratch', \n",
    "          cell_type='gru', \n",
    "          network_type = 'uni-directional', \n",
    "          embed_model= 'glove-wiki-gigaword-100', \n",
    "          embed_size= 128, \n",
    "          state_sizes = [64, 128], \n",
    "          data_manager = dm)\n",
    "rnn.build()\n",
    "opt = tf.keras.optimizers.RMSprop(learning_rate=0.001)\n",
    "rnn.compile_model(optimizer=opt, loss='sparse_categorical_crossentropy', metrics=['accuracy'])\n",
    "rnn.fit(dm.tf_train_set.batch(64), epochs=20, validation_data = dm.tf_valid_set.batch(64))"
   ]
  },
  {
   "cell_type": "code",
   "execution_count": 30,
   "metadata": {
    "scrolled": true
   },
   "outputs": [
    {
     "name": "stdout",
     "output_type": "stream",
     "text": [
      "Epoch 1/20\n",
      "7/7 [==============================] - 27s 1s/step - loss: 1.6518 - accuracy: 0.3267 - val_loss: 1.3490 - val_accuracy: 0.4949\n",
      "Epoch 2/20\n",
      "7/7 [==============================] - 4s 525ms/step - loss: 1.0792 - accuracy: 0.5786 - val_loss: 1.1140 - val_accuracy: 0.4747\n",
      "Epoch 3/20\n",
      "7/7 [==============================] - 4s 536ms/step - loss: 0.8559 - accuracy: 0.6409 - val_loss: 0.9903 - val_accuracy: 0.5051\n",
      "Epoch 4/20\n",
      "7/7 [==============================] - 4s 524ms/step - loss: 0.5640 - accuracy: 0.7756 - val_loss: 0.7417 - val_accuracy: 0.6869\n",
      "Epoch 5/20\n",
      "7/7 [==============================] - 4s 578ms/step - loss: 0.4926 - accuracy: 0.8155 - val_loss: 0.7028 - val_accuracy: 0.6970\n",
      "Epoch 6/20\n",
      "7/7 [==============================] - 4s 507ms/step - loss: 0.3626 - accuracy: 0.8554 - val_loss: 0.7169 - val_accuracy: 0.6869\n",
      "Epoch 7/20\n",
      "7/7 [==============================] - 4s 499ms/step - loss: 0.2574 - accuracy: 0.9252 - val_loss: 0.7227 - val_accuracy: 0.6869\n",
      "Epoch 8/20\n",
      "7/7 [==============================] - 4s 543ms/step - loss: 0.2629 - accuracy: 0.9227 - val_loss: 0.4266 - val_accuracy: 0.8182\n",
      "Epoch 9/20\n",
      "7/7 [==============================] - 4s 579ms/step - loss: 0.1271 - accuracy: 0.9676 - val_loss: 0.5225 - val_accuracy: 0.7879\n",
      "Epoch 10/20\n",
      "7/7 [==============================] - 4s 545ms/step - loss: 0.0791 - accuracy: 0.9825 - val_loss: 0.6398 - val_accuracy: 0.7677\n",
      "Epoch 11/20\n",
      "7/7 [==============================] - 4s 543ms/step - loss: 0.0545 - accuracy: 0.9925 - val_loss: 0.7382 - val_accuracy: 0.7576\n",
      "Epoch 12/20\n",
      "7/7 [==============================] - 4s 565ms/step - loss: 0.0383 - accuracy: 0.9925 - val_loss: 0.7179 - val_accuracy: 0.7980\n",
      "Epoch 13/20\n",
      "7/7 [==============================] - 4s 521ms/step - loss: 0.0267 - accuracy: 0.9950 - val_loss: 0.9305 - val_accuracy: 0.7374\n",
      "Epoch 14/20\n",
      "7/7 [==============================] - 4s 530ms/step - loss: 0.0209 - accuracy: 0.9975 - val_loss: 0.4089 - val_accuracy: 0.8687\n",
      "Epoch 15/20\n",
      "7/7 [==============================] - 4s 564ms/step - loss: 0.0091 - accuracy: 1.0000 - val_loss: 0.4587 - val_accuracy: 0.8586\n",
      "Epoch 16/20\n",
      "7/7 [==============================] - 4s 518ms/step - loss: 0.0086 - accuracy: 1.0000 - val_loss: 0.3705 - val_accuracy: 0.8788\n",
      "Epoch 17/20\n",
      "7/7 [==============================] - 4s 535ms/step - loss: 0.0345 - accuracy: 0.9925 - val_loss: 0.5292 - val_accuracy: 0.8485\n",
      "Epoch 18/20\n",
      "7/7 [==============================] - 4s 529ms/step - loss: 0.0127 - accuracy: 1.0000 - val_loss: 0.3164 - val_accuracy: 0.9394\n",
      "Epoch 19/20\n",
      "7/7 [==============================] - 4s 534ms/step - loss: 0.0030 - accuracy: 1.0000 - val_loss: 0.2344 - val_accuracy: 0.9495\n",
      "Epoch 20/20\n",
      "7/7 [==============================] - 4s 514ms/step - loss: 0.0019 - accuracy: 1.0000 - val_loss: 0.2132 - val_accuracy: 0.9495\n"
     ]
    },
    {
     "data": {
      "text/plain": [
       "<tensorflow.python.keras.callbacks.History at 0x1c018b425e0>"
      ]
     },
     "execution_count": 30,
     "metadata": {},
     "output_type": "execute_result"
    }
   ],
   "source": [
    "rnn = RNN(run_mode='init-only', \n",
    "          cell_type='gru', \n",
    "          network_type = 'uni-directional', \n",
    "          embed_model= 'glove-wiki-gigaword-100', \n",
    "          embed_size= 128, \n",
    "          state_sizes = [64,128], \n",
    "          data_manager = dm)\n",
    "rnn.build()\n",
    "opt = tf.keras.optimizers.RMSprop(learning_rate=0.001)\n",
    "rnn.compile_model(optimizer=opt, loss='sparse_categorical_crossentropy', metrics=['accuracy'])\n",
    "rnn.fit(dm.tf_train_set.batch(64), epochs=20, validation_data = dm.tf_valid_set.batch(64))"
   ]
  },
  {
   "cell_type": "code",
   "execution_count": 31,
   "metadata": {
    "scrolled": true
   },
   "outputs": [
    {
     "name": "stdout",
     "output_type": "stream",
     "text": [
      "Epoch 1/20\n",
      "7/7 [==============================] - 27s 1s/step - loss: 1.4198 - accuracy: 0.4539 - val_loss: 1.1888 - val_accuracy: 0.4343\n",
      "Epoch 2/20\n",
      "7/7 [==============================] - 4s 542ms/step - loss: 0.8981 - accuracy: 0.6658 - val_loss: 0.9069 - val_accuracy: 0.5253\n",
      "Epoch 3/20\n",
      "7/7 [==============================] - 4s 569ms/step - loss: 0.6134 - accuracy: 0.7706 - val_loss: 0.6703 - val_accuracy: 0.7374\n",
      "Epoch 4/20\n",
      "7/7 [==============================] - 4s 612ms/step - loss: 0.4135 - accuracy: 0.8703 - val_loss: 0.5756 - val_accuracy: 0.7778\n",
      "Epoch 5/20\n",
      "7/7 [==============================] - 4s 556ms/step - loss: 0.2541 - accuracy: 0.9277 - val_loss: 0.5154 - val_accuracy: 0.7980\n",
      "Epoch 6/20\n",
      "7/7 [==============================] - 4s 488ms/step - loss: 0.1790 - accuracy: 0.9426 - val_loss: 0.4386 - val_accuracy: 0.8687\n",
      "Epoch 7/20\n",
      "7/7 [==============================] - 4s 563ms/step - loss: 0.0979 - accuracy: 0.9776 - val_loss: 0.3069 - val_accuracy: 0.8889\n",
      "Epoch 8/20\n",
      "7/7 [==============================] - 4s 507ms/step - loss: 0.0655 - accuracy: 0.9800 - val_loss: 0.4105 - val_accuracy: 0.8687\n",
      "Epoch 9/20\n",
      "7/7 [==============================] - 3s 450ms/step - loss: 0.0515 - accuracy: 0.9875 - val_loss: 0.6188 - val_accuracy: 0.8182\n",
      "Epoch 10/20\n",
      "7/7 [==============================] - 3s 418ms/step - loss: 0.0854 - accuracy: 0.9701 - val_loss: 0.2719 - val_accuracy: 0.8990\n",
      "Epoch 11/20\n",
      "7/7 [==============================] - 4s 507ms/step - loss: 0.0205 - accuracy: 0.9975 - val_loss: 0.3387 - val_accuracy: 0.8889\n",
      "Epoch 12/20\n",
      "7/7 [==============================] - 4s 556ms/step - loss: 0.0169 - accuracy: 0.9975 - val_loss: 0.4580 - val_accuracy: 0.8788\n",
      "Epoch 13/20\n",
      "7/7 [==============================] - 4s 499ms/step - loss: 0.0138 - accuracy: 0.9975 - val_loss: 0.2954 - val_accuracy: 0.8990\n",
      "Epoch 14/20\n",
      "7/7 [==============================] - 4s 562ms/step - loss: 0.0067 - accuracy: 1.0000 - val_loss: 0.3044 - val_accuracy: 0.8990\n",
      "Epoch 15/20\n",
      "7/7 [==============================] - 4s 529ms/step - loss: 0.0040 - accuracy: 1.0000 - val_loss: 0.2646 - val_accuracy: 0.8990\n",
      "Epoch 16/20\n",
      "7/7 [==============================] - 4s 525ms/step - loss: 0.0433 - accuracy: 0.9850 - val_loss: 0.3114 - val_accuracy: 0.9394\n",
      "Epoch 17/20\n",
      "7/7 [==============================] - 4s 500ms/step - loss: 0.0072 - accuracy: 1.0000 - val_loss: 0.1577 - val_accuracy: 0.9394\n",
      "Epoch 18/20\n",
      "7/7 [==============================] - 3s 502ms/step - loss: 0.0017 - accuracy: 1.0000 - val_loss: 0.1456 - val_accuracy: 0.9495\n",
      "Epoch 19/20\n",
      "7/7 [==============================] - 3s 495ms/step - loss: 0.0013 - accuracy: 1.0000 - val_loss: 0.1393 - val_accuracy: 0.9596\n",
      "Epoch 20/20\n",
      "7/7 [==============================] - 4s 522ms/step - loss: 9.9186e-04 - accuracy: 1.0000 - val_loss: 0.1364 - val_accuracy: 0.9596\n"
     ]
    },
    {
     "data": {
      "text/plain": [
       "<tensorflow.python.keras.callbacks.History at 0x1c085be7d00>"
      ]
     },
     "execution_count": 31,
     "metadata": {},
     "output_type": "execute_result"
    }
   ],
   "source": [
    "rnn = RNN(run_mode='init-fine-tune', \n",
    "          cell_type='gru', \n",
    "          network_type = 'uni-directional', \n",
    "          embed_model= 'glove-wiki-gigaword-100', \n",
    "          embed_size= 128, \n",
    "          state_sizes = [64,128], \n",
    "          data_manager = dm)\n",
    "rnn.build()\n",
    "opt = tf.keras.optimizers.RMSprop(learning_rate=0.001)\n",
    "rnn.compile_model(optimizer=opt, loss='sparse_categorical_crossentropy', metrics=['accuracy'])\n",
    "rnn.fit(dm.tf_train_set.batch(64), epochs=20, validation_data = dm.tf_valid_set.batch(64))"
   ]
  },
  {
   "cell_type": "markdown",
   "metadata": {},
   "source": [
    "#### <span style=\"color:red\">**Question 4.3.3**</span> \n",
    "\n",
    "**Run the above general RNN with at least five parameter sets and try to obtain the best performance. You can stick with the running mode *init-fine-tune* and use grid search to tune other parameters. Record your best model which will be used in the next part.**\n",
    "\n",
    "<div style=\"text-align: right\"><span style=\"color:red\">[2 points]</span></div>"
   ]
  },
  {
   "cell_type": "markdown",
   "metadata": {},
   "source": [
    "Fixed Parameters:\n",
    "- run_mode ='init-fine-tune'\n",
    "- embed_model = 'glove-wiki-gigaword-100'\n",
    "- embed_size = 128\n",
    "- state_sizes = [64,128]\n",
    "\n",
    "<br/><br/>\n",
    "Model 1 `(network_type='uni-directional', cell_type='gru')`: accuracy = 0.9293<br/>\n",
    "Model 2 `(network_type='uni-directional', cell_type='lstm')`: accuracy = 0.9495<br/>\n",
    "Model 3 `(network_type='uni-directional', cell_type='simple-rnn')`: accuracy = 0.8384<br/>\n",
    "Model 4 `(network_type='bi-directional', cell_type='gru')`: accuracy = 0.9798<br/>\n",
    "Model 5 `(network_type='bi-directional', cell_type='lstm')`: accuracy = 0.9495<br/>\n",
    "Model 6 `(network_type='bi-directional', cell_type='simple-rnn')`: accuracy = 0.9596<br/>"
   ]
  },
  {
   "cell_type": "code",
   "execution_count": 20,
   "metadata": {
    "scrolled": false
   },
   "outputs": [
    {
     "name": "stdout",
     "output_type": "stream",
     "text": [
      "Training with network type = uni-directional, cell type = gru\n",
      "2/2 [==============================] - 2s 39ms/step - loss: 0.2415 - accuracy: 0.9293\n",
      "\tvalid acc = 0.9292929172515869, valid loss = 0.24146521091461182\n",
      "\n",
      "Training with network type = uni-directional, cell type = lstm\n",
      "2/2 [==============================] - 2s 60ms/step - loss: 0.1697 - accuracy: 0.9495\n",
      "\tvalid acc = 0.9494949579238892, valid loss = 0.1697206050157547\n",
      "\n",
      "Training with network type = uni-directional, cell type = simple-rnn\n",
      "2/2 [==============================] - 0s 24ms/step - loss: 0.7289 - accuracy: 0.8384\n",
      "\tvalid acc = 0.8383838534355164, valid loss = 0.7289429306983948\n",
      "\n",
      "Training with network type = bi-directional, cell type = gru\n",
      "2/2 [==============================] - 5s 179ms/step - loss: 0.1192 - accuracy: 0.9798\n",
      "\tvalid acc = 0.9797979593276978, valid loss = 0.1192401796579361\n",
      "\n",
      "Training with network type = bi-directional, cell type = lstm\n",
      "WARNING:tensorflow:5 out of the last 9 calls to <function Model.make_test_function.<locals>.test_function at 0x0000024ACF9D45E0> triggered tf.function retracing. Tracing is expensive and the excessive number of tracings could be due to (1) creating @tf.function repeatedly in a loop, (2) passing tensors with different shapes, (3) passing Python objects instead of tensors. For (1), please define your @tf.function outside of the loop. For (2), @tf.function has experimental_relax_shapes=True option that relaxes argument shapes that can avoid unnecessary retracing. For (3), please refer to https://www.tensorflow.org/guide/function#controlling_retracing and https://www.tensorflow.org/api_docs/python/tf/function for  more details.\n",
      "2/2 [==============================] - 5s 274ms/step - loss: 0.2234 - accuracy: 0.9495\n",
      "\tvalid acc = 0.9494949579238892, valid loss = 0.2233937531709671\n",
      "\n",
      "Training with network type = bi-directional, cell type = simple-rnn\n",
      "WARNING:tensorflow:6 out of the last 11 calls to <function Model.make_test_function.<locals>.test_function at 0x0000024A41B13280> triggered tf.function retracing. Tracing is expensive and the excessive number of tracings could be due to (1) creating @tf.function repeatedly in a loop, (2) passing tensors with different shapes, (3) passing Python objects instead of tensors. For (1), please define your @tf.function outside of the loop. For (2), @tf.function has experimental_relax_shapes=True option that relaxes argument shapes that can avoid unnecessary retracing. For (3), please refer to https://www.tensorflow.org/guide/function#controlling_retracing and https://www.tensorflow.org/api_docs/python/tf/function for  more details.\n",
      "2/2 [==============================] - 1s 93ms/step - loss: 0.1876 - accuracy: 0.9596\n",
      "\tvalid acc = 0.9595959782600403, valid loss = 0.1875593662261963\n",
      "\n",
      "\n",
      "The best model is with network type = bi-directional, cell type = gru\n"
     ]
    }
   ],
   "source": [
    "lst_network_type = ['uni-directional','bi-directional']\n",
    "lst_cell_type = ['gru','lstm','simple-rnn']\n",
    "\n",
    "best_acc= - np.inf\n",
    "opt = tf.keras.optimizers.RMSprop(learning_rate=0.001)\n",
    "\n",
    "for network in lst_network_type:\n",
    "    for cell in lst_cell_type:\n",
    "        rnn = RNN(run_mode='init-fine-tune', \n",
    "          cell_type=cell, \n",
    "          network_type=network, \n",
    "          embed_model='glove-wiki-gigaword-100', \n",
    "          embed_size=128, \n",
    "          state_sizes=[64,128], \n",
    "          data_manager=dm)\n",
    "        rnn.build()\n",
    "        rnn.compile_model(optimizer=opt, loss='sparse_categorical_crossentropy', metrics=['accuracy'])\n",
    "        print(\"Training with network type = {}, cell type = {}\".format(network, cell))\n",
    "        history = rnn.fit(dm.tf_train_set.batch(64), epochs=20, verbose=0)\n",
    "        valid_loss, valid_acc = rnn.model.evaluate(dm.tf_valid_set.batch(64))\n",
    "        print('\\tvalid acc = {}, valid loss = {}\\n'.format(valid_acc, valid_loss))\n",
    "        if(valid_acc > best_acc):\n",
    "            best_acc = valid_acc\n",
    "            best_network = network\n",
    "            best_cell = cell\n",
    "            \n",
    "print('\\nThe best model is with network type = {}, cell type = {}'.format(best_network, best_cell))"
   ]
  },
  {
   "cell_type": "code",
   "execution_count": 24,
   "metadata": {
    "scrolled": true
   },
   "outputs": [
    {
     "name": "stdout",
     "output_type": "stream",
     "text": [
      "Epoch 1/20\n",
      "7/7 [==============================] - 34s 1s/step - loss: 1.2488 - accuracy: 0.5686 - val_loss: 0.9997 - val_accuracy: 0.4949\n",
      "Epoch 2/20\n",
      "7/7 [==============================] - 4s 555ms/step - loss: 0.6386 - accuracy: 0.7456 - val_loss: 0.6805 - val_accuracy: 0.6566\n",
      "Epoch 3/20\n",
      "7/7 [==============================] - 4s 589ms/step - loss: 0.3857 - accuracy: 0.8653 - val_loss: 0.4885 - val_accuracy: 0.7980\n",
      "Epoch 4/20\n",
      "7/7 [==============================] - 4s 605ms/step - loss: 0.2157 - accuracy: 0.9302 - val_loss: 0.2980 - val_accuracy: 0.8687\n",
      "Epoch 5/20\n",
      "7/7 [==============================] - 4s 563ms/step - loss: 0.1700 - accuracy: 0.9451 - val_loss: 0.4435 - val_accuracy: 0.8384\n",
      "Epoch 6/20\n",
      "7/7 [==============================] - 4s 594ms/step - loss: 0.0787 - accuracy: 0.9800 - val_loss: 0.1613 - val_accuracy: 0.9596\n",
      "Epoch 7/20\n",
      "7/7 [==============================] - 4s 560ms/step - loss: 0.0412 - accuracy: 0.9875 - val_loss: 0.1497 - val_accuracy: 0.9596\n",
      "Epoch 8/20\n",
      "7/7 [==============================] - 4s 615ms/step - loss: 0.0257 - accuracy: 0.9950 - val_loss: 0.1600 - val_accuracy: 0.9495\n",
      "Epoch 9/20\n",
      "7/7 [==============================] - 4s 575ms/step - loss: 0.0194 - accuracy: 0.9975 - val_loss: 2.0227 - val_accuracy: 0.6768\n",
      "Epoch 10/20\n",
      "7/7 [==============================] - 4s 576ms/step - loss: 0.1095 - accuracy: 0.9800 - val_loss: 0.1120 - val_accuracy: 0.9697\n",
      "Epoch 11/20\n",
      "7/7 [==============================] - 4s 608ms/step - loss: 0.0048 - accuracy: 1.0000 - val_loss: 0.1134 - val_accuracy: 0.9697\n",
      "Epoch 12/20\n",
      "7/7 [==============================] - 4s 596ms/step - loss: 0.0030 - accuracy: 1.0000 - val_loss: 0.1161 - val_accuracy: 0.9697\n",
      "Epoch 13/20\n",
      "7/7 [==============================] - 4s 577ms/step - loss: 0.0019 - accuracy: 1.0000 - val_loss: 0.1198 - val_accuracy: 0.9697\n",
      "Epoch 14/20\n",
      "7/7 [==============================] - 4s 607ms/step - loss: 0.0012 - accuracy: 1.0000 - val_loss: 0.1244 - val_accuracy: 0.9697\n",
      "Epoch 15/20\n",
      "7/7 [==============================] - 4s 594ms/step - loss: 7.8479e-04 - accuracy: 1.0000 - val_loss: 0.1296 - val_accuracy: 0.9697\n",
      "Epoch 16/20\n",
      "7/7 [==============================] - 4s 577ms/step - loss: 5.0587e-04 - accuracy: 1.0000 - val_loss: 0.1352 - val_accuracy: 0.9697\n",
      "Epoch 17/20\n",
      "7/7 [==============================] - 4s 603ms/step - loss: 3.2752e-04 - accuracy: 1.0000 - val_loss: 0.1412 - val_accuracy: 0.9697\n",
      "Epoch 18/20\n",
      "7/7 [==============================] - 5s 666ms/step - loss: 2.1318e-04 - accuracy: 1.0000 - val_loss: 0.1475 - val_accuracy: 0.9697\n",
      "Epoch 19/20\n",
      "7/7 [==============================] - 4s 584ms/step - loss: 1.3960e-04 - accuracy: 1.0000 - val_loss: 0.1540 - val_accuracy: 0.9697\n",
      "Epoch 20/20\n",
      "7/7 [==============================] - 4s 565ms/step - loss: 9.2015e-05 - accuracy: 1.0000 - val_loss: 0.1606 - val_accuracy: 0.9596\n"
     ]
    },
    {
     "data": {
      "text/plain": [
       "<tensorflow.python.keras.callbacks.History at 0x27e97fcccd0>"
      ]
     },
     "execution_count": 24,
     "metadata": {},
     "output_type": "execute_result"
    }
   ],
   "source": [
    "#The run of your best model here\n",
    "my_best_rnn = RNN(run_mode='init-fine-tune',\n",
    "                  cell_type='gru', \n",
    "                  network_type='bi-directional', \n",
    "                  embed_model='glove-wiki-gigaword-100', \n",
    "                  embed_size=128, \n",
    "                  state_sizes=[64,128], \n",
    "                  data_manager=dm)\n",
    "my_best_rnn.build()\n",
    "opt = tf.keras.optimizers.RMSprop(learning_rate=0.001)\n",
    "my_best_rnn.compile_model(optimizer=opt, loss='sparse_categorical_crossentropy', metrics=['accuracy'])\n",
    "my_best_rnn.fit(dm.tf_train_set.batch(64), epochs=20, validation_data = dm.tf_valid_set.batch(64))"
   ]
  },
  {
   "cell_type": "markdown",
   "metadata": {},
   "source": [
    "### <span style=\"color:#0b486b\">4.4. RNNs with Attention for Text and Sequence Classification</span> ###\n",
    "\n",
    "**In what follows, you are required to implement a RNN with the attention machenism for text and sequence classification. This attention mechanism is applied at the last hidden layer of our RNN. Specifically, let $h_1, h_2,...,h_{L-1}, h_L$ be the hidden states at the last hidden layer where $L$ is the sequence length. We compute the context vector $c$ as $c=\\sum_{i=1}^{L}a_{i}h_{i}$ where $a_1,...,a_L$ are the allignment weights (i.e., $a_i\\geq 0$ and $\\sum_{i=1}^{L}a_{i}=1$).**\n",
    "\n",
    "**The allignment weights are computed as follows:**\n",
    "- $a=[a_{i}]_{i=1}^{L}=softmax([s_{i}]_{i=1}^{L})$ where $s= [s_{i}]_{i=1}^{L}$ consists of the allignment scores.\n",
    "- The assigment scores $s= [s_{i}]_{i=1}^{L}$ are computed as $s=tanh(hU)V$ where $h=\\left[\\begin{array}{c}\n",
    "h_{1}\\\\\n",
    "h_{2}\\\\\n",
    "...\\\\\n",
    "h_{L-1}\\\\\n",
    "h_{L}\n",
    "\\end{array}\\right]\\in\\mathbb{R}^{L\\times state\\_size_{3}}$, $U\\in\\mathbb{R}^{state\\_size_{3}\\times output\\_length}$, $V\\in\\mathbb{R}^{output\\_length\\times1}$, and $output\\_length$ is a hyper-parameter. Note that if we consider a mini-batch, the shape of $h$ is $batch\\_size \\times L \\times state\\_size_3$ where $state\\_size_3$ is the hidden size of the last hidden layer.\n",
    "\n",
    "After having the context vector $c$, we concatenate with the last hidden state $h_L$. On top of this concatenation, we conduct the output layer with the softmax activation.\n",
    "\n",
    "<img src=\"./images/attention.png\" align=\"center\" width=1200/>\n",
    "\n",
    "<div style=\"text-align: right\"><span style=\"color:red; font-weight:bold\">[Total marks for this part: 14 points]<span></div>"
   ]
  },
  {
   "cell_type": "markdown",
   "metadata": {},
   "source": [
    "#### <span style=\"color:red\">**Question 4.4.1**</span>\n",
    "\n",
    "**We declare the  layer `MyAttention` as a class inherited from `tf.keras.layers.Layer` to realize our attention mechanism. You are required to provide the code for this class. Note that in the `def call(self, all_states, last_state)` method, `all_states` is the collection of all hidden states and `last_state` is the last hidden state.**\n",
    "\n",
    "<div style=\"text-align: right\"><span style=\"color:red\">[5 points]</span></div>"
   ]
  },
  {
   "cell_type": "code",
   "execution_count": 34,
   "metadata": {},
   "outputs": [],
   "source": [
    "class MyAttention(tf.keras.layers.Layer):\n",
    "    def __init__(self, output_length= 50):\n",
    "        super(MyAttention, self).__init__()\n",
    "        self.U = tf.keras.layers.Dense(output_length)\n",
    "        self.V = tf.keras.layers.Dense(1)\n",
    "\n",
    "    #all_states is the collection of all hidden states and last_state is the last hidden state\n",
    "    def call(self, all_states, last_state):\n",
    "        all_states_extend = tf.expand_dims(all_states, axis=1)\n",
    "        last_state_extend = tf.expand_dims(last_state, axis=1)\n",
    "        attention_score = self.V(tf.keras.activations.tanh(self.U(all_states_extend)))\n",
    "        attention_weight = tf.nn.softmax(attention_score, axis=1)\n",
    "        context = tf.reduce_sum(tf.linalg.matmul(tf.transpose(attention_weight, perm=[0,2,1]), last_state_extend), axis=1)\n",
    "        return context, attention_weight"
   ]
  },
  {
   "cell_type": "markdown",
   "metadata": {},
   "source": [
    "#### <span style=\"color:red\">**Question 4.4.2**</span> \n",
    "\n",
    "**You are required to extend the class `RNN` in Section `4.3.1` to achieve the class `Attention_RNN` in which the attention mechanism mentioned above is applied at the last hidden layer.**\n",
    "\n",
    "<div style=\"text-align: right\"><span style=\"color:red\">[5 points]</span></div>"
   ]
  },
  {
   "cell_type": "code",
   "execution_count": 35,
   "metadata": {},
   "outputs": [],
   "source": [
    "class Attention_RNN:\n",
    "    def __init__(self, run_mode = 'scratch', cell_type= 'gru', network_type = 'uni-directional', embed_model= 'glove-wiki-gigaword-100', \n",
    "                 embed_size= 128, state_sizes = [64, 64], data_manager = None):\n",
    "        self.run_mode = run_mode\n",
    "        self.data_manager = data_manager\n",
    "        self.cell_type = cell_type\n",
    "        self.network_type = network_type\n",
    "        self.state_sizes = state_sizes\n",
    "        self.embed_model = embed_model\n",
    "        self.embed_size = embed_size\n",
    "        if self.run_mode != 'scratch':\n",
    "            self.embed_size = int(self.embed_model.split(\"-\")[-1])\n",
    "        self.data_manager = data_manager\n",
    "        self.vocab_size = dm.vocab_size +1\n",
    "        self.word2idx = dm.word2idx\n",
    "        self.word2vect = None\n",
    "        self.embed_matrix = np.zeros(shape= [self.vocab_size, self.embed_size])\n",
    "    \n",
    "    def build_embedding_matrix(self):\n",
    "        self.word2vect = api.load(self.embed_model)\n",
    "        for word, idx in self.word2idx.items():\n",
    "            try:\n",
    "                self.embed_matrix[idx] = self.word2vect.get_vector(word)\n",
    "            except KeyError:\n",
    "                pass\n",
    "    \n",
    "    @staticmethod\n",
    "    def get_layer(cell_type='gru', network_type='uni-directional', hidden_size=128, return_sequences=False, return_state=False,\n",
    "                  activation ='tanh'):\n",
    "        if network_type == 'uni-directional':\n",
    "            if cell_type == 'gru':\n",
    "                return tf.keras.layers.GRU(units=hidden_size, activation=activation, return_sequences=return_sequences,\n",
    "                                          return_state=return_state)\n",
    "            elif cell_type == 'lstm':\n",
    "                return tf.keras.layers.LSTM(units=hidden_size, activation=activation, return_sequences=return_sequences,\n",
    "                                          return_state=return_state)\n",
    "            else:\n",
    "                return tf.keras.layers.SimpleRNN(units=hidden_size, activation=activation, return_sequences=return_sequences,\n",
    "                                          return_state=return_state)\n",
    "        else:\n",
    "            if cell_type == 'gru':\n",
    "                return tf.keras.layers.Bidirectional(\n",
    "                    tf.keras.layers.GRU(units=hidden_size, activation=activation, return_sequences=return_sequences,\n",
    "                                          return_state=return_state))\n",
    "            elif cell_type == 'lstm':\n",
    "                return tf.keras.layers.Bidirectional(\n",
    "                    tf.keras.layers.LSTM(units=hidden_size, activation=activation, return_sequences=return_sequences,\n",
    "                                          return_state=return_state))\n",
    "            else:\n",
    "                return tf.keras.layers.Bidirectional(\n",
    "                    tf.keras.layers.SimpleRNN(units=hidden_size, activation=activation, return_sequences=return_sequences,\n",
    "                                          return_state=return_state))\n",
    "    \n",
    "    def build(self):\n",
    "        inputs = tf.keras.layers.Input(shape=[None])\n",
    "        if self.run_mode == 'scratch':\n",
    "            self.embedding_layer = tf.keras.layers.Embedding(self.vocab_size, self.embed_size, mask_zero=True, trainable=True)\n",
    "        elif self.run_mode == 'init-only':\n",
    "            self.build_embedding_matrix()\n",
    "            self.embedding_layer = tf.keras.layers.Embedding(self.vocab_size, self.embed_size, mask_zero=True, trainable=True)\n",
    "        else: # init-fine-tune\n",
    "            self.build_embedding_matrix()\n",
    "            self.embedding_layer = tf.keras.layers.Embedding(self.vocab_size, self.embed_size, mask_zero=True, trainable=True,\n",
    "                                                        weights=[self.embed_matrix])\n",
    "        h = self.embedding_layer(inputs)\n",
    "        num_layers = len(self.state_sizes)\n",
    "        for i in range(num_layers):\n",
    "            h = self.get_layer(cell_type=self.cell_type, network_type=self.network_type, hidden_size=self.state_sizes[i], \n",
    "                               return_sequences=True, return_state=False)(h)\n",
    "            if i == num_layers - 1:\n",
    "                if self.network_type == 'uni-directional':\n",
    "                    h, state = self.get_layer(cell_type=self.cell_type, network_type=self.network_type, \n",
    "                                              hidden_size=self.state_sizes[i], return_sequences=False, return_state=True)(h)\n",
    "                else:\n",
    "                    h, forward, backward = self.get_layer(cell_type=self.cell_type, network_type=self.network_type, \n",
    "                                                          hidden_size=self.state_sizes[i], return_sequences=False, \n",
    "                                                          return_state=True)(h)\n",
    "                    state = tf.concat([forward, backward], axis=1)\n",
    "        \n",
    "        context, attention_weight = MyAttention(output_length=dm.maxlen)(h, state)\n",
    "        h = tf.concat([state, context], axis=1)\n",
    "        h = tf.keras.layers.Dense(dm.num_classes, activation='softmax')(h)\n",
    "        self.model = tf.keras.Model(inputs=inputs, outputs=h)\n",
    "        \n",
    "    def compile_model(self, *args, **kwargs):\n",
    "        self.model.compile(*args, **kwargs)\n",
    "    \n",
    "    def fit(self, *args, **kwargs):\n",
    "        return self.model.fit(*args, **kwargs)\n",
    "    \n",
    "    def evaluate(self, *args, **kwargs):\n",
    "        self.model.evaluate(*args, **kwargs)       \n"
   ]
  },
  {
   "cell_type": "markdown",
   "metadata": {},
   "source": [
    "#### <span style=\"color:red\">**Question 4.4.3**</span> \n",
    "\n",
    "**Choose a common setting for standard RNN and RNN with attention and conduct experiments to compare them. A setting here means `cell_type`, `network_type`, and list of `state sizes`**.\n",
    "\n",
    "<div style=\"text-align: right\"><span style=\"color:red\">[4 points]</span></div>"
   ]
  },
  {
   "cell_type": "markdown",
   "metadata": {},
   "source": [
    "Having the same settings for model without attention mechanism below (rnn) and model using the attention mechanism below (attention_rnn), the accuracy for attention_rnn (0.9091) is higher compared to rnn (0.8687). "
   ]
  },
  {
   "cell_type": "code",
   "execution_count": 37,
   "metadata": {
    "scrolled": true
   },
   "outputs": [
    {
     "name": "stdout",
     "output_type": "stream",
     "text": [
      "Epoch 1/20\n",
      "7/7 [==============================] - 9s 463ms/step - loss: 1.5132 - accuracy: 0.3990 - val_loss: 1.2361 - val_accuracy: 0.4949\n",
      "Epoch 2/20\n",
      "7/7 [==============================] - 1s 155ms/step - loss: 0.7792 - accuracy: 0.7382 - val_loss: 0.9378 - val_accuracy: 0.5960\n",
      "Epoch 3/20\n",
      "7/7 [==============================] - 1s 152ms/step - loss: 0.4937 - accuracy: 0.8678 - val_loss: 0.7545 - val_accuracy: 0.7172\n",
      "Epoch 4/20\n",
      "7/7 [==============================] - 1s 200ms/step - loss: 0.3147 - accuracy: 0.9127 - val_loss: 0.6964 - val_accuracy: 0.7576\n",
      "Epoch 5/20\n",
      "7/7 [==============================] - 1s 153ms/step - loss: 0.1622 - accuracy: 0.9726 - val_loss: 0.7878 - val_accuracy: 0.7172\n",
      "Epoch 6/20\n",
      "7/7 [==============================] - 1s 153ms/step - loss: 0.1889 - accuracy: 0.9551 - val_loss: 0.5965 - val_accuracy: 0.7879\n",
      "Epoch 7/20\n",
      "7/7 [==============================] - 1s 152ms/step - loss: 0.0649 - accuracy: 1.0000 - val_loss: 0.5223 - val_accuracy: 0.8081\n",
      "Epoch 8/20\n",
      "7/7 [==============================] - 1s 152ms/step - loss: 0.0321 - accuracy: 1.0000 - val_loss: 0.4653 - val_accuracy: 0.8485\n",
      "Epoch 9/20\n",
      "7/7 [==============================] - 1s 153ms/step - loss: 0.0191 - accuracy: 1.0000 - val_loss: 0.4476 - val_accuracy: 0.8384\n",
      "Epoch 10/20\n",
      "7/7 [==============================] - 1s 177ms/step - loss: 0.0115 - accuracy: 1.0000 - val_loss: 0.4308 - val_accuracy: 0.8485\n",
      "Epoch 11/20\n",
      "7/7 [==============================] - 1s 159ms/step - loss: 0.0072 - accuracy: 1.0000 - val_loss: 0.4167 - val_accuracy: 0.8687\n",
      "Epoch 12/20\n",
      "7/7 [==============================] - 1s 172ms/step - loss: 0.0046 - accuracy: 1.0000 - val_loss: 0.4044 - val_accuracy: 0.8687\n",
      "Epoch 13/20\n",
      "7/7 [==============================] - 1s 161ms/step - loss: 0.0029 - accuracy: 1.0000 - val_loss: 0.3935 - val_accuracy: 0.8687\n",
      "Epoch 14/20\n",
      "7/7 [==============================] - 1s 176ms/step - loss: 0.0019 - accuracy: 1.0000 - val_loss: 0.3835 - val_accuracy: 0.8788\n",
      "Epoch 15/20\n",
      "7/7 [==============================] - 1s 161ms/step - loss: 0.0013 - accuracy: 1.0000 - val_loss: 0.3742 - val_accuracy: 0.8788\n",
      "Epoch 16/20\n",
      "7/7 [==============================] - 1s 162ms/step - loss: 8.3042e-04 - accuracy: 1.0000 - val_loss: 0.3652 - val_accuracy: 0.8889\n",
      "Epoch 17/20\n",
      "7/7 [==============================] - 1s 208ms/step - loss: 5.5025e-04 - accuracy: 1.0000 - val_loss: 0.3564 - val_accuracy: 0.8889\n",
      "Epoch 18/20\n",
      "7/7 [==============================] - 1s 163ms/step - loss: 3.6605e-04 - accuracy: 1.0000 - val_loss: 0.3477 - val_accuracy: 0.8990\n",
      "Epoch 19/20\n",
      "7/7 [==============================] - 1s 160ms/step - loss: 2.4438e-04 - accuracy: 1.0000 - val_loss: 0.3393 - val_accuracy: 0.8990\n",
      "Epoch 20/20\n",
      "7/7 [==============================] - 1s 163ms/step - loss: 1.6369e-04 - accuracy: 1.0000 - val_loss: 0.3312 - val_accuracy: 0.9091\n"
     ]
    },
    {
     "data": {
      "text/plain": [
       "<tensorflow.python.keras.callbacks.History at 0x1e2983e3340>"
      ]
     },
     "execution_count": 37,
     "metadata": {},
     "output_type": "execute_result"
    }
   ],
   "source": [
    "attention_rnn = Attention_RNN(run_mode='init-fine-tune', \n",
    "                            cell_type='basic-rnn', \n",
    "                            network_type='uni-directional', \n",
    "                            embed_model='glove-wiki-gigaword-100', \n",
    "                            embed_size=128, \n",
    "                            state_sizes=[64,128], \n",
    "                            data_manager=dm)\n",
    "attention_rnn.build()\n",
    "opt = tf.keras.optimizers.RMSprop(learning_rate=0.001)\n",
    "attention_rnn.compile_model(optimizer=opt, loss='sparse_categorical_crossentropy', metrics=['accuracy'])\n",
    "attention_rnn.fit(dm.tf_train_set.batch(64), epochs=20, validation_data=dm.tf_valid_set.batch(64))"
   ]
  },
  {
   "cell_type": "code",
   "execution_count": 38,
   "metadata": {
    "scrolled": true
   },
   "outputs": [
    {
     "name": "stdout",
     "output_type": "stream",
     "text": [
      "Epoch 1/20\n",
      "7/7 [==============================] - 7s 388ms/step - loss: 1.5040 - accuracy: 0.4115 - val_loss: 1.3834 - val_accuracy: 0.4343\n",
      "Epoch 2/20\n",
      "7/7 [==============================] - 1s 156ms/step - loss: 0.8044 - accuracy: 0.7032 - val_loss: 1.0502 - val_accuracy: 0.5051\n",
      "Epoch 3/20\n",
      "7/7 [==============================] - 1s 159ms/step - loss: 0.5762 - accuracy: 0.8080 - val_loss: 0.8841 - val_accuracy: 0.5960\n",
      "Epoch 4/20\n",
      "7/7 [==============================] - 1s 158ms/step - loss: 0.3530 - accuracy: 0.9152 - val_loss: 0.7501 - val_accuracy: 0.6869\n",
      "Epoch 5/20\n",
      "7/7 [==============================] - 1s 160ms/step - loss: 0.1941 - accuracy: 0.9676 - val_loss: 0.6601 - val_accuracy: 0.7576\n",
      "Epoch 6/20\n",
      "7/7 [==============================] - 1s 158ms/step - loss: 0.1412 - accuracy: 0.9701 - val_loss: 0.7852 - val_accuracy: 0.7374\n",
      "Epoch 7/20\n",
      "7/7 [==============================] - 1s 156ms/step - loss: 0.1147 - accuracy: 0.9825 - val_loss: 0.4825 - val_accuracy: 0.8182\n",
      "Epoch 8/20\n",
      "7/7 [==============================] - 1s 154ms/step - loss: 0.0472 - accuracy: 1.0000 - val_loss: 0.4561 - val_accuracy: 0.8283\n",
      "Epoch 9/20\n",
      "7/7 [==============================] - 1s 156ms/step - loss: 0.0259 - accuracy: 1.0000 - val_loss: 0.4358 - val_accuracy: 0.8182\n",
      "Epoch 10/20\n",
      "7/7 [==============================] - 1s 155ms/step - loss: 0.0146 - accuracy: 1.0000 - val_loss: 0.4298 - val_accuracy: 0.8283\n",
      "Epoch 11/20\n",
      "7/7 [==============================] - 1s 155ms/step - loss: 0.0092 - accuracy: 1.0000 - val_loss: 0.4171 - val_accuracy: 0.8384\n",
      "Epoch 12/20\n",
      "7/7 [==============================] - 1s 152ms/step - loss: 0.0059 - accuracy: 1.0000 - val_loss: 0.4112 - val_accuracy: 0.8384\n",
      "Epoch 13/20\n",
      "7/7 [==============================] - 1s 160ms/step - loss: 0.0039 - accuracy: 1.0000 - val_loss: 0.4077 - val_accuracy: 0.8485\n",
      "Epoch 14/20\n",
      "7/7 [==============================] - 1s 157ms/step - loss: 0.0026 - accuracy: 1.0000 - val_loss: 0.4057 - val_accuracy: 0.8485\n",
      "Epoch 15/20\n",
      "7/7 [==============================] - 1s 157ms/step - loss: 0.0017 - accuracy: 1.0000 - val_loss: 0.4043 - val_accuracy: 0.8485\n",
      "Epoch 16/20\n",
      "7/7 [==============================] - 1s 159ms/step - loss: 0.0012 - accuracy: 1.0000 - val_loss: 0.4028 - val_accuracy: 0.8485\n",
      "Epoch 17/20\n",
      "7/7 [==============================] - 1s 159ms/step - loss: 8.0031e-04 - accuracy: 1.0000 - val_loss: 0.4009 - val_accuracy: 0.8485\n",
      "Epoch 18/20\n",
      "7/7 [==============================] - 1s 160ms/step - loss: 5.4499e-04 - accuracy: 1.0000 - val_loss: 0.3987 - val_accuracy: 0.8586\n",
      "Epoch 19/20\n",
      "7/7 [==============================] - 1s 155ms/step - loss: 3.7239e-04 - accuracy: 1.0000 - val_loss: 0.3965 - val_accuracy: 0.8586\n",
      "Epoch 20/20\n",
      "7/7 [==============================] - 1s 160ms/step - loss: 2.5520e-04 - accuracy: 1.0000 - val_loss: 0.3945 - val_accuracy: 0.8687\n"
     ]
    },
    {
     "data": {
      "text/plain": [
       "<tensorflow.python.keras.callbacks.History at 0x1e2c6808310>"
      ]
     },
     "execution_count": 38,
     "metadata": {},
     "output_type": "execute_result"
    }
   ],
   "source": [
    "rnn = RNN(run_mode='init-fine-tune',\n",
    "          cell_type='basic-rnn', \n",
    "          network_type='uni-directional', \n",
    "          embed_model='glove-wiki-gigaword-100', \n",
    "          embed_size=128, \n",
    "          state_sizes=[64,128], \n",
    "          data_manager=dm)\n",
    "rnn.build()\n",
    "opt = tf.keras.optimizers.RMSprop(learning_rate=0.001)\n",
    "rnn.compile_model(optimizer=opt, loss='sparse_categorical_crossentropy', metrics=['accuracy'])\n",
    "rnn.fit(dm.tf_train_set.batch(64), epochs=20, validation_data = dm.tf_valid_set.batch(64))"
   ]
  },
  {
   "cell_type": "markdown",
   "metadata": {},
   "source": [
    "### <span style=\"color:#0b486b\">4.5. Investigating the embedding vectors from the embedding matrix</span> ###\n",
    "\n",
    "<div style=\"text-align: right\"><span style=\"color:red; font-weight:bold\">[Total marks for this part: 12 points]<span></div>"
   ]
  },
  {
   "cell_type": "markdown",
   "metadata": {},
   "source": [
    "**As you know, the embedding matrix is a collection of embedding vectors, each is for one word. In this part, you will base on the cosine similarity of the embedding vectors for the words to find the top-k most relevant words for a given word.**\n",
    "\n",
    "**Good embeddings should have words close in meaning near each other by some similarity metrics. The similarity metric we'll use is the `consine` similarity, which is defined for two vector $\\mathbf{u}$ and $\\mathbf{v}$ as $\\cos(\\mathbf{u}, \\mathbf{v})=\\frac{\\mathbf{u} \\cdot \\mathbf{v}}{\\left\\Vert{\\mathbf{u}}\\right\\Vert\\left\\Vert{\\mathbf{v}}\\right\\Vert}$ where $\\cdot$ means dot product and $\\left\\Vert\\cdot\\right\\Vert$ means the $\\mathcal{L}_2$ norm.**"
   ]
  },
  {
   "cell_type": "code",
   "execution_count": 31,
   "metadata": {},
   "outputs": [],
   "source": [
    "def cosine_similarity(u,v):\n",
    "    return np.dot(u,v)/(np.linalg.norm(u)*np.linalg.norm(v))"
   ]
  },
  {
   "cell_type": "markdown",
   "metadata": {},
   "source": [
    "#### <span style=\"color:red\">**Question 4.5.1**</span> \n",
    "\n",
    "**You are required to write the code for the function `find_most_similar(word= None, k=5, model= None)`. As its name, this function returns the `top-k most relevant word` for a given word based on the cosine similarity of the embedding vectors.**\n",
    "\n",
    "<div style=\"text-align: right\"><span style=\"color:red\">[6 points]</span></div>"
   ]
  },
  {
   "cell_type": "code",
   "execution_count": 32,
   "metadata": {},
   "outputs": [],
   "source": [
    "def find_most_similar(word= None, k=5, model= None):\n",
    "    try:\n",
    "        lst = [(0,0)]*k\n",
    "        index = dm.word2idx[word]\n",
    "        for i in range(1,1094):\n",
    "            if i != index:\n",
    "                current = cosine_similarity(model.embed_matrix[index], model.embed_matrix[i])\n",
    "                if current > min(lst, key=lambda x:x[0])[0]:\n",
    "                    to_remove = lst.index(min(lst, key=lambda x:x[0]))\n",
    "                    lst[to_remove] = (current, dm.idx2word[i])\n",
    "                    \n",
    "        words = []\n",
    "                    \n",
    "        print(\"Printing final results of similar words and their cosine similarities:\")\n",
    "        for tup in (sorted(lst, reverse=True)):\n",
    "            print(tup)\n",
    "            words.append(tup[1])\n",
    "\n",
    "        return words\n",
    "    except: #word not in the vocabulary\n",
    "        print(\"Word is not in the dictionary!\")"
   ]
  },
  {
   "cell_type": "markdown",
   "metadata": {},
   "source": [
    "Here is the example of the above function. As you can observe, the result makes sense which demonstrates that we obtain a good model with the meaningful embedding matrix."
   ]
  },
  {
   "cell_type": "code",
   "execution_count": 33,
   "metadata": {},
   "outputs": [
    {
     "name": "stdout",
     "output_type": "stream",
     "text": [
      "Printing final results of similar words and their cosine similarities:\n",
      "(0.6282327413388834, 'netherlands')\n",
      "(0.627512091962913, 'italy')\n",
      "(0.6134157936125213, 'soviet')\n",
      "(0.5910070570827871, 'turkey')\n",
      "(0.5765769525153158, 'spain')\n",
      "(0.560642026450888, 'yugoslavia')\n",
      "(0.5559693741980682, 'luxembourg')\n",
      "(0.5534724867544953, 'ireland')\n",
      "(0.5429074939572802, 'iceland')\n",
      "(0.5426674715601415, 'britain')\n"
     ]
    },
    {
     "name": "stderr",
     "output_type": "stream",
     "text": [
      "<ipython-input-31-d98b88eee8be>:2: RuntimeWarning: invalid value encountered in double_scalars\n",
      "  return np.dot(u,v)/(np.linalg.norm(u)*np.linalg.norm(v))\n"
     ]
    },
    {
     "data": {
      "text/plain": [
       "['netherlands',\n",
       " 'italy',\n",
       " 'soviet',\n",
       " 'turkey',\n",
       " 'spain',\n",
       " 'yugoslavia',\n",
       " 'luxembourg',\n",
       " 'ireland',\n",
       " 'iceland',\n",
       " 'britain']"
      ]
     },
     "execution_count": 33,
     "metadata": {},
     "output_type": "execute_result"
    }
   ],
   "source": [
    "find_most_similar(word='poland', k=10, model= my_best_rnn)"
   ]
  },
  {
   "cell_type": "markdown",
   "metadata": {},
   "source": [
    "#### <span style=\"color:red\">**Question 4.5.2**</span> \n",
    "​\n",
    "**You are required to write the code for the function `plot3D_with_labels(word= None, model= None, k= 10)`. As its name, this function visualizes the `top-k most relevant word` for a given word based on the cosine similarity of the embedding vectors by using tSNE to project the embedding vectors to a 3D space.**\n",
    "​\n",
    "\n",
    "<img src=\"./images/3D_plots.png\" align=\"center\" width=600/>\n",
    "<div style=\"text-align: right\"><span style=\"color:red\">[6 points]</span></div>"
   ]
  },
  {
   "cell_type": "code",
   "execution_count": 34,
   "metadata": {},
   "outputs": [],
   "source": [
    "from mpl_toolkits.mplot3d import Axes3D\n",
    "from sklearn.manifold import TSNE\n",
    "tsne = TSNE(perplexity=30, n_components=3, init='pca', n_iter=5000)\n",
    "def plot3D_with_labels(word= None, model= None, k= 10):\n",
    "    fig = plt.figure(figsize=(20, 20))\n",
    "    ax = fig.add_subplot(111, projection='3d')\n",
    "    labels = find_most_similar(word, k, model)\n",
    "    labels.append(word)\n",
    "    dim = tsne.fit_transform([model.embed_matrix[dm.word2idx[word]] for word in labels])\n",
    "    for i, label in enumerate(labels):\n",
    "        if label != word:\n",
    "            x,y,z =  dim[i,:]\n",
    "            ax.scatter(x, y, z, color='blue')\n",
    "            ax.text(x, y, z, label, color='green')\n",
    "        else:\n",
    "            x,y,z =  dim[i,:]\n",
    "            ax.scatter(x, y, z, color='blue')\n",
    "            ax.text(x, y, z, label, color='red')\n",
    "    ax.set_xlabel('dim-one')\n",
    "    ax.set_ylabel('dim-two')\n",
    "    ax.set_zlabel('dim-three')    "
   ]
  },
  {
   "cell_type": "code",
   "execution_count": 35,
   "metadata": {},
   "outputs": [
    {
     "name": "stderr",
     "output_type": "stream",
     "text": [
      "<ipython-input-31-d98b88eee8be>:2: RuntimeWarning: invalid value encountered in double_scalars\n",
      "  return np.dot(u,v)/(np.linalg.norm(u)*np.linalg.norm(v))\n"
     ]
    },
    {
     "name": "stdout",
     "output_type": "stream",
     "text": [
      "Printing final results of similar words and their cosine similarities:\n",
      "(0.6282327413388834, 'netherlands')\n",
      "(0.627512091962913, 'italy')\n",
      "(0.6134157936125213, 'soviet')\n",
      "(0.5910070570827871, 'turkey')\n",
      "(0.5765769525153158, 'spain')\n",
      "(0.560642026450888, 'yugoslavia')\n",
      "(0.5559693741980682, 'luxembourg')\n",
      "(0.5534724867544953, 'ireland')\n",
      "(0.5429074939572802, 'iceland')\n",
      "(0.5426674715601415, 'britain')\n",
      "(0.5397791371211339, 'canada')\n",
      "(0.5220094376498186, 'poles')\n",
      "(0.5202686117870888, 'japan')\n",
      "(0.516157704342097, 'german')\n",
      "(0.5033043247527246, 'argentina')\n",
      "(0.4962832578796011, 'northern')\n",
      "(0.48991312323758857, 'holland')\n",
      "(0.48673611787623516, 'brazil')\n",
      "(0.48277339350762927, 'states')\n",
      "(0.4757550358160902, 'mongolia')\n"
     ]
    },
    {
     "data": {
      "image/png": "[encoded data removed]",
      "text/plain": [
       "<Figure size 1440x1440 with 1 Axes>"
      ]
     },
     "metadata": {},
     "output_type": "display_data"
    }
   ],
   "source": [
    "plot3D_with_labels(word='poland', k=20, model= my_best_rnn)"
   ]
  },
  {
   "cell_type": "markdown",
   "metadata": {},
   "source": [
    "--- \n",
    "<div style=\"text-align: center\"> <span style=\"color:green\">GOOD LUCK WITH YOUR ASSIGNMENT 2!</span> </div>\n",
    "<div style=\"text-align: center\"> <span style=\"color:black\">END OF ASSIGNMENT</span> </div>"
   ]
  }
 ],
 "metadata": {
  "kernelspec": {
   "display_name": "Python 3",
   "language": "python",
   "name": "python3"
  },
  "language_info": {
   "codemirror_mode": {
    "name": "ipython",
    "version": 3
   },
   "file_extension": ".py",
   "mimetype": "text/x-python",
   "name": "python",
   "nbconvert_exporter": "python",
   "pygments_lexer": "ipython3",
   "version": "3.8.10"
  }
 },
 "nbformat": 4,
 "nbformat_minor": 4
}
